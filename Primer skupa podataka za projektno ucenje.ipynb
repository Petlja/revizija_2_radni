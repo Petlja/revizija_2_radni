{
 "cells": [
  {
   "cell_type": "markdown",
   "id": "65603bb9-c79a-479b-9235-b05334cea3f3",
   "metadata": {},
   "source": [
    "# Пример скупа података за пројектно учење"
   ]
  },
  {
   "cell_type": "markdown",
   "id": "f7fca735-b0cf-4787-8f16-375fda21304a",
   "metadata": {},
   "source": [
    "Идеја пројектног учења је да оно што сте научили примените на конкретан проблем и онда пустите исти тај проблем да вас још нешто научи. При томе, наравно, нико не очекује да решавање проблема буде праволинијско. Има детаља којих ћете морати да се подсетите, док ћете неке трикове \"успут\" морати да научите. Тражење сличних примера и решења је увек дозвољено и врло пожељно."
   ]
  },
  {
   "cell_type": "markdown",
   "id": "38a0f19b-1d5a-49b7-92ec-473d7f430ccb",
   "metadata": {},
   "source": [
    "## Пројектни задатак – Квалитет ваздуха"
   ]
  },
  {
   "cell_type": "markdown",
   "id": "74eaf47a-1e15-4f9c-959c-6ff38d743dbe",
   "metadata": {},
   "source": [
    "Ваш пројектни задатак је да обрадите податке о квалитету ваздуха у Србији који су доступни на [Порталу отворених података](https://data.gov.rs/en/datasets/kvalitet-vazduha/). Оно што нас посебно интересује су различити параметри квалитета ваздуха прикупљени на свих доступним станицама у последњих месец дана. Јасно вам је да се ови подаци стално ажурирају због чега нема смисла да их учитавамо из унапред припремљеног фајла. Табелу са овим подацима морамо да преузмемо директно са веб сајта који објављује последње доступне податке. На овој страни имате више табела (скупова података) у различитим форматима. Осим табеле у којој су тражени подаци за последњих месеца дана ([_Kvalitet vazduha po stanicama_](http://data.sepa.gov.rs/dataset/11104dfd-b110-4b25-b350-9253e9233b6b/resource/0b6a7aa5-9b13-4a7c-8a80-f964e1c67bc3/download/air_quality_by_station.csv)) још две су нам потребне: [_Stanice za merenje kvaliteta vazduha - šifarnik_](http://data.sepa.gov.rs/dataset/11104dfd-b110-4b25-b350-9253e9233b6b/resource/dd7f4e4b-2375-4657-bb91-d541a2759891/download/station.csv) и [_Merene komponente - šifarnik_](http://data.sepa.gov.rs/dataset/11104dfd-b110-4b25-b350-9253e9233b6b/resource/7fa4ab3f-423a-4016-8508-37164b49c087/download/component.csv). Тренутно су ове табеле доступне на локацијама датим у хиперлинку. Могуће је да Портал промени локацију ових фајлова у будућности. Погледајте онда који је \"_Latest URL_\" за одговарајући скуп података и примените га. "
   ]
  },
  {
   "cell_type": "markdown",
   "id": "5c05634d-73af-454b-b758-0ee684dc6e30",
   "metadata": {},
   "source": [
    "Преузети подаци се налазе у подфолдеру `podaci/vazduh` у фајловима `air_quality_by_station.csv`, `station.csv` и `component.csv`. Ви можете преузети свежије податке, а можете и прво пробати да радите са већ преузетим."
   ]
  },
  {
   "cell_type": "markdown",
   "id": "1c59e357-ad78-429f-8ad7-a2d31bdfa096",
   "metadata": {},
   "source": [
    "Конкретно, изаберите вама најближу станицу која прикупља тражене параметре ваздуха. Изаберите параметар или параметре које желите да анализирате и прикажете. Проверите да ли та станица стварно има податке за тражени период. Издвојте потребне податке из табеле са свим доступним подацима. Прикажите податке као временску серију (време мерења на _x_-оси, параметар на _y_-оси) и као хистограм за вредности изабраног параметра. Покушајте да протумачите резултате и видите колико често је квалитет ваздуха био одличан, добар, прихватљив, загађен или јако загађен. Ово тумачење није једноставно. Можда вам помогне текст [_CAQI, AQI, SAQI… Srbiji treba jasan pristup tumačenju zagađenosti vazduha_](https://balkangreenenergynews.com/rs/caqi-aqi-saqi-srbiji-treba-jasan-pristup-tumacenju-zagadenosti-vazduha/)."
   ]
  },
  {
   "cell_type": "markdown",
   "id": "af44fae1-e258-4d42-a89a-2897c2ccf8ed",
   "metadata": {},
   "source": [
    "Прво увезите библиотеке за рад са табелама и цртање графикона."
   ]
  },
  {
   "cell_type": "code",
   "execution_count": 1,
   "id": "50bc9793-64e5-418e-9385-1a4283658415",
   "metadata": {},
   "outputs": [],
   "source": [
    "import pandas as pd\n",
    "import matplotlib.pyplot as plt"
   ]
  },
  {
   "cell_type": "markdown",
   "id": "6be2c1a7-8f66-4677-b9cc-137d71d36689",
   "metadata": {},
   "source": [
    "На основу URL адреса које се завршавају са CSV, јасно је да су фајлови које треба учитати управо у овом формату. Оно што се не види из адресе јесте који је сепаратор коришћен за одвајање суседних вредности. Подразумева се да је зарез тај сепаратор, али то у већини европских земаља није згодно јер се децимални бројеви пишу са зарезом. Због тога се као сепаратор често користи знак тачка-зарез. У Србији се користе обе варијанте. Који је сепаратор у ком фајлу коришћен, углавном видимо тек кад учитавање са једним од њих не успе, односно кад добијемо нераздојене вредности. У сваком случају, учитајте све три табеле помоћу функције `pd.read_csv()`."
   ]
  },
  {
   "cell_type": "code",
   "execution_count": 2,
   "id": "fcad4174-93bc-4996-893f-728cb96f3fdb",
   "metadata": {},
   "outputs": [],
   "source": [
    "stanice=pd.read_csv('podaci/vazduh/station.csv',sep=\";\")\n",
    "komponente=pd.read_csv('podaci/vazduh/component.csv',sep=\";\")\n",
    "podaci=pd.read_csv('podaci/vazduh/air_quality_by_station.csv',sep=\",\")"
   ]
  },
  {
   "cell_type": "markdown",
   "id": "778553e3-9235-4a21-a271-0af961daea0d",
   "metadata": {},
   "source": [
    "Постоји и могућност да фајлове директно преузмете са локације на интернета у ком случају бите користили:"
   ]
  },
  {
   "cell_type": "markdown",
   "id": "b4f9da1e-1d57-44e5-8bcf-e13dad65600b",
   "metadata": {},
   "source": [
    "```python\n",
    "stanice=pd.read_csv('https://data.gov.rs/en/datasets/r/dd7f4e4b-2375-4657-bb91-d541a2759891',sep=\";\")\n",
    "komponente=pd.read_csv('https://data.gov.rs/en/datasets/r/7fa4ab3f-423a-4016-8508-37164b49c087',sep=\";\")\n",
    "podaci=pd.read_csv('https://data.gov.rs/en/datasets/r/0b6a7aa5-9b13-4a7c-8a80-f964e1c67bc3',sep=\",\")\n",
    "```"
   ]
  },
  {
   "cell_type": "markdown",
   "id": "230a24d0-ec38-490e-8663-2c335a615b81",
   "metadata": {},
   "source": [
    "На тај начин увек добијате најсвежије податке, а мана је што приликом сваког покретања програма поново довлачите податке преко интернета."
   ]
  },
  {
   "cell_type": "code",
   "execution_count": 3,
   "id": "a5509b2d-f63e-4bae-b0d3-2e850ca94d73",
   "metadata": {},
   "outputs": [
    {
     "data": {
      "text/html": [
       "<div>\n",
       "<style scoped>\n",
       "    .dataframe tbody tr th:only-of-type {\n",
       "        vertical-align: middle;\n",
       "    }\n",
       "\n",
       "    .dataframe tbody tr th {\n",
       "        vertical-align: top;\n",
       "    }\n",
       "\n",
       "    .dataframe thead th {\n",
       "        text-align: right;\n",
       "    }\n",
       "</style>\n",
       "<table border=\"1\" class=\"dataframe\">\n",
       "  <thead>\n",
       "    <tr style=\"text-align: right;\">\n",
       "      <th></th>\n",
       "      <th>date_time</th>\n",
       "      <th>station_id</th>\n",
       "      <th>so2</th>\n",
       "      <th>pm10</th>\n",
       "      <th>o3</th>\n",
       "      <th>no2</th>\n",
       "      <th>nox</th>\n",
       "      <th>co</th>\n",
       "      <th>benzene</th>\n",
       "      <th>toluene</th>\n",
       "      <th>no</th>\n",
       "      <th>pm2_5</th>\n",
       "      <th>pm1</th>\n",
       "    </tr>\n",
       "  </thead>\n",
       "  <tbody>\n",
       "    <tr>\n",
       "      <th>0</th>\n",
       "      <td>2022-07-23 00:00:00</td>\n",
       "      <td>1</td>\n",
       "      <td>11.049364</td>\n",
       "      <td>NaN</td>\n",
       "      <td>49.426125</td>\n",
       "      <td>NaN</td>\n",
       "      <td>NaN</td>\n",
       "      <td>0.359702</td>\n",
       "      <td>NaN</td>\n",
       "      <td>NaN</td>\n",
       "      <td>NaN</td>\n",
       "      <td>NaN</td>\n",
       "      <td>NaN</td>\n",
       "    </tr>\n",
       "    <tr>\n",
       "      <th>1</th>\n",
       "      <td>2022-07-23 00:00:00</td>\n",
       "      <td>2</td>\n",
       "      <td>9.596165</td>\n",
       "      <td>18.700333</td>\n",
       "      <td>NaN</td>\n",
       "      <td>62.841953</td>\n",
       "      <td>76.624398</td>\n",
       "      <td>0.305340</td>\n",
       "      <td>0.373718</td>\n",
       "      <td>7.369886</td>\n",
       "      <td>8.54256</td>\n",
       "      <td>8.732034</td>\n",
       "      <td>6.084828</td>\n",
       "    </tr>\n",
       "    <tr>\n",
       "      <th>2</th>\n",
       "      <td>2022-07-23 00:00:00</td>\n",
       "      <td>3</td>\n",
       "      <td>23.788801</td>\n",
       "      <td>NaN</td>\n",
       "      <td>96.627825</td>\n",
       "      <td>15.593323</td>\n",
       "      <td>23.382014</td>\n",
       "      <td>0.258219</td>\n",
       "      <td>NaN</td>\n",
       "      <td>NaN</td>\n",
       "      <td>4.71952</td>\n",
       "      <td>NaN</td>\n",
       "      <td>NaN</td>\n",
       "    </tr>\n",
       "    <tr>\n",
       "      <th>3</th>\n",
       "      <td>2022-07-23 00:00:00</td>\n",
       "      <td>4</td>\n",
       "      <td>4.992814</td>\n",
       "      <td>12.393333</td>\n",
       "      <td>NaN</td>\n",
       "      <td>9.644204</td>\n",
       "      <td>13.779256</td>\n",
       "      <td>NaN</td>\n",
       "      <td>NaN</td>\n",
       "      <td>NaN</td>\n",
       "      <td>2.69776</td>\n",
       "      <td>6.621667</td>\n",
       "      <td>4.019283</td>\n",
       "    </tr>\n",
       "    <tr>\n",
       "      <th>4</th>\n",
       "      <td>2022-07-23 00:00:00</td>\n",
       "      <td>5</td>\n",
       "      <td>16.111416</td>\n",
       "      <td>NaN</td>\n",
       "      <td>NaN</td>\n",
       "      <td>33.625594</td>\n",
       "      <td>41.446167</td>\n",
       "      <td>0.312116</td>\n",
       "      <td>NaN</td>\n",
       "      <td>NaN</td>\n",
       "      <td>5.27072</td>\n",
       "      <td>NaN</td>\n",
       "      <td>NaN</td>\n",
       "    </tr>\n",
       "  </tbody>\n",
       "</table>\n",
       "</div>"
      ],
      "text/plain": [
       "             date_time  station_id        so2       pm10         o3  \\\n",
       "0  2022-07-23 00:00:00           1  11.049364        NaN  49.426125   \n",
       "1  2022-07-23 00:00:00           2   9.596165  18.700333        NaN   \n",
       "2  2022-07-23 00:00:00           3  23.788801        NaN  96.627825   \n",
       "3  2022-07-23 00:00:00           4   4.992814  12.393333        NaN   \n",
       "4  2022-07-23 00:00:00           5  16.111416        NaN        NaN   \n",
       "\n",
       "         no2        nox        co   benzene   toluene       no     pm2_5  \\\n",
       "0        NaN        NaN  0.359702       NaN       NaN      NaN       NaN   \n",
       "1  62.841953  76.624398  0.305340  0.373718  7.369886  8.54256  8.732034   \n",
       "2  15.593323  23.382014  0.258219       NaN       NaN  4.71952       NaN   \n",
       "3   9.644204  13.779256       NaN       NaN       NaN  2.69776  6.621667   \n",
       "4  33.625594  41.446167  0.312116       NaN       NaN  5.27072       NaN   \n",
       "\n",
       "        pm1  \n",
       "0       NaN  \n",
       "1  6.084828  \n",
       "2       NaN  \n",
       "3  4.019283  \n",
       "4       NaN  "
      ]
     },
     "execution_count": 3,
     "metadata": {},
     "output_type": "execute_result"
    }
   ],
   "source": [
    "podaci.head()"
   ]
  },
  {
   "cell_type": "markdown",
   "id": "893e1d7a-b388-4039-a827-902fa0acb9a5",
   "metadata": {},
   "source": [
    "Примећујемо да су у колони `date_time` датум и време мерења. Судећи по првих пет редова, мерења су бележена на сваких сат времена. Да бисмо ову колону могли да користимо као континуалну независно променљиву, потребно је да буде препозната као тип `datetime`. То се вероватно није догодило. Пајтон при учитавању податка из фајла покушава да препозна тип податка који је заједнички за све елементе сваке појединачне колоне али ће целу колону оставити као објекат, односно колону стрингова уколико има икакву дилему. Проверите помоћу функције `.dtypes` који су типови податка у појединачним колонама табеле."
   ]
  },
  {
   "cell_type": "code",
   "execution_count": 4,
   "id": "8ae6ba6f-1aa6-402a-bd5e-1c5ae244f0d2",
   "metadata": {},
   "outputs": [
    {
     "data": {
      "text/plain": [
       "date_time      object\n",
       "station_id      int64\n",
       "so2           float64\n",
       "pm10          float64\n",
       "o3            float64\n",
       "no2           float64\n",
       "nox           float64\n",
       "co            float64\n",
       "benzene       float64\n",
       "toluene       float64\n",
       "no            float64\n",
       "pm2_5         float64\n",
       "pm1           float64\n",
       "dtype: object"
      ]
     },
     "execution_count": 4,
     "metadata": {},
     "output_type": "execute_result"
    }
   ],
   "source": [
    "podaci.dtypes"
   ]
  },
  {
   "cell_type": "markdown",
   "id": "1fbeb8c2-f41d-4665-b4dc-85bdb8566f54",
   "metadata": {},
   "source": [
    "Функција `.to_datetime()` ће претворити све текстуалне податке у датум и време уколико је то могуће. Урадите то за све вредности у колони `date_time`."
   ]
  },
  {
   "cell_type": "code",
   "execution_count": 5,
   "id": "39a60db0-6b32-4d76-aeec-051f25b3119d",
   "metadata": {},
   "outputs": [],
   "source": [
    "podaci.date_time=pd.to_datetime(podaci.date_time)"
   ]
  },
  {
   "cell_type": "markdown",
   "id": "a6d8a965-57e4-4719-931f-28dee4ed51ce",
   "metadata": {},
   "source": [
    "Подаци у табели `stanice` садржи називе станица и њихове географске локације. То су кључни подаци помоћу којих ћемо закључити која је станица најближа. Пошто имена променљивих нису иста у свим табелама потребна нам је вредност `id` из табеле `stanice` која одговара вредности `station_id` у табели `podaci`. У табели `komponente` су пуни називи и јединице мерених компененти. Ови подаци су неопходни да бисмо могли да тумачимо резултате."
   ]
  },
  {
   "cell_type": "code",
   "execution_count": 6,
   "id": "24c5ae40-ac64-4829-8797-bfb3d1795c26",
   "metadata": {},
   "outputs": [
    {
     "data": {
      "text/html": [
       "<div>\n",
       "<style scoped>\n",
       "    .dataframe tbody tr th:only-of-type {\n",
       "        vertical-align: middle;\n",
       "    }\n",
       "\n",
       "    .dataframe tbody tr th {\n",
       "        vertical-align: top;\n",
       "    }\n",
       "\n",
       "    .dataframe thead th {\n",
       "        text-align: right;\n",
       "    }\n",
       "</style>\n",
       "<table border=\"1\" class=\"dataframe\">\n",
       "  <thead>\n",
       "    <tr style=\"text-align: right;\">\n",
       "      <th></th>\n",
       "      <th>id</th>\n",
       "      <th>k_eoi_code</th>\n",
       "      <th>k_airbase_code</th>\n",
       "      <th>k_network_id</th>\n",
       "      <th>k_local_code</th>\n",
       "      <th>k_name</th>\n",
       "      <th>k_start_date</th>\n",
       "      <th>k_stop_date</th>\n",
       "      <th>latitude</th>\n",
       "      <th>longitude</th>\n",
       "      <th>altitude</th>\n",
       "      <th>aq_stationclassification</th>\n",
       "      <th>aq_areaclassification</th>\n",
       "      <th>k_char_of_zone</th>\n",
       "      <th>k_ozone_classification</th>\n",
       "      <th>k_main_emission_source</th>\n",
       "      <th>k_city</th>\n",
       "      <th>k_city_population</th>\n",
       "      <th>k_street_name</th>\n",
       "      <th>k_report</th>\n",
       "    </tr>\n",
       "  </thead>\n",
       "  <tbody>\n",
       "    <tr>\n",
       "      <th>0</th>\n",
       "      <td>1</td>\n",
       "      <td>RS1002A</td>\n",
       "      <td>RS0034A</td>\n",
       "      <td>1</td>\n",
       "      <td>0001</td>\n",
       "      <td>Kikinda Centar</td>\n",
       "      <td>2010-02-01</td>\n",
       "      <td>NaN</td>\n",
       "      <td>45.821483</td>\n",
       "      <td>20.454008</td>\n",
       "      <td>78.0</td>\n",
       "      <td>background</td>\n",
       "      <td>urban</td>\n",
       "      <td>residential</td>\n",
       "      <td>suburban</td>\n",
       "      <td>Agriculture</td>\n",
       "      <td>Kikinda</td>\n",
       "      <td>38.0</td>\n",
       "      <td>Svetosavska bb</td>\n",
       "      <td>t</td>\n",
       "    </tr>\n",
       "    <tr>\n",
       "      <th>1</th>\n",
       "      <td>2</td>\n",
       "      <td>RS1007A</td>\n",
       "      <td>RS0029A</td>\n",
       "      <td>1</td>\n",
       "      <td>1007</td>\n",
       "      <td>Novi Sad SPENS</td>\n",
       "      <td>2015-06-08</td>\n",
       "      <td>NaN</td>\n",
       "      <td>45.245065</td>\n",
       "      <td>19.841190</td>\n",
       "      <td>78.0</td>\n",
       "      <td>traffic</td>\n",
       "      <td>urban</td>\n",
       "      <td>residential/commercial</td>\n",
       "      <td>NaN</td>\n",
       "      <td>NaN</td>\n",
       "      <td>Novi Sad</td>\n",
       "      <td>342.0</td>\n",
       "      <td>Bulevar oslobodjenja</td>\n",
       "      <td>t</td>\n",
       "    </tr>\n",
       "    <tr>\n",
       "      <th>2</th>\n",
       "      <td>3</td>\n",
       "      <td>RS1008A</td>\n",
       "      <td>RS0031A</td>\n",
       "      <td>1</td>\n",
       "      <td>1008</td>\n",
       "      <td>Novi Sad Liman</td>\n",
       "      <td>2015-06-01</td>\n",
       "      <td>NaN</td>\n",
       "      <td>45.238642</td>\n",
       "      <td>19.835704</td>\n",
       "      <td>81.0</td>\n",
       "      <td>background</td>\n",
       "      <td>urban</td>\n",
       "      <td>residential</td>\n",
       "      <td>urban</td>\n",
       "      <td>NaN</td>\n",
       "      <td>Novi Sad</td>\n",
       "      <td>342.0</td>\n",
       "      <td>Narodnog fronta 45</td>\n",
       "      <td>t</td>\n",
       "    </tr>\n",
       "    <tr>\n",
       "      <th>3</th>\n",
       "      <td>4</td>\n",
       "      <td>RS1009A</td>\n",
       "      <td>RS0001A</td>\n",
       "      <td>1</td>\n",
       "      <td>1009</td>\n",
       "      <td>Beočin Centar</td>\n",
       "      <td>2015-07-02</td>\n",
       "      <td>NaN</td>\n",
       "      <td>45.208386</td>\n",
       "      <td>19.721709</td>\n",
       "      <td>87.0</td>\n",
       "      <td>background</td>\n",
       "      <td>urban</td>\n",
       "      <td>residential/industrial</td>\n",
       "      <td>NaN</td>\n",
       "      <td>NaN</td>\n",
       "      <td>Beočin</td>\n",
       "      <td>15.0</td>\n",
       "      <td>Kralja Petra bb</td>\n",
       "      <td>t</td>\n",
       "    </tr>\n",
       "    <tr>\n",
       "      <th>4</th>\n",
       "      <td>5</td>\n",
       "      <td>RS1010A</td>\n",
       "      <td>RS1010A</td>\n",
       "      <td>1</td>\n",
       "      <td>1010</td>\n",
       "      <td>Sremska Mitrovica</td>\n",
       "      <td>2015-07-02</td>\n",
       "      <td>NaN</td>\n",
       "      <td>44.972185</td>\n",
       "      <td>19.609349</td>\n",
       "      <td>82.0</td>\n",
       "      <td>traffic</td>\n",
       "      <td>urban</td>\n",
       "      <td>residential/commercial</td>\n",
       "      <td>NaN</td>\n",
       "      <td>NaN</td>\n",
       "      <td>Sremska Mitrovica</td>\n",
       "      <td>86.0</td>\n",
       "      <td>NaN</td>\n",
       "      <td>t</td>\n",
       "    </tr>\n",
       "  </tbody>\n",
       "</table>\n",
       "</div>"
      ],
      "text/plain": [
       "   id k_eoi_code k_airbase_code  k_network_id k_local_code             k_name  \\\n",
       "0   1    RS1002A        RS0034A             1         0001     Kikinda Centar   \n",
       "1   2    RS1007A        RS0029A             1         1007     Novi Sad SPENS   \n",
       "2   3    RS1008A        RS0031A             1         1008     Novi Sad Liman   \n",
       "3   4    RS1009A        RS0001A             1         1009      Beočin Centar   \n",
       "4   5    RS1010A        RS1010A             1         1010  Sremska Mitrovica   \n",
       "\n",
       "  k_start_date k_stop_date   latitude  longitude  altitude  \\\n",
       "0   2010-02-01         NaN  45.821483  20.454008      78.0   \n",
       "1   2015-06-08         NaN  45.245065  19.841190      78.0   \n",
       "2   2015-06-01         NaN  45.238642  19.835704      81.0   \n",
       "3   2015-07-02         NaN  45.208386  19.721709      87.0   \n",
       "4   2015-07-02         NaN  44.972185  19.609349      82.0   \n",
       "\n",
       "  aq_stationclassification aq_areaclassification          k_char_of_zone  \\\n",
       "0               background                 urban             residential   \n",
       "1                  traffic                 urban  residential/commercial   \n",
       "2               background                 urban             residential   \n",
       "3               background                 urban  residential/industrial   \n",
       "4                  traffic                 urban  residential/commercial   \n",
       "\n",
       "  k_ozone_classification k_main_emission_source             k_city  \\\n",
       "0               suburban            Agriculture            Kikinda   \n",
       "1                    NaN                    NaN           Novi Sad   \n",
       "2                  urban                    NaN          Novi Sad    \n",
       "3                    NaN                    NaN             Beočin   \n",
       "4                    NaN                    NaN  Sremska Mitrovica   \n",
       "\n",
       "   k_city_population         k_street_name k_report  \n",
       "0               38.0        Svetosavska bb        t  \n",
       "1              342.0  Bulevar oslobodjenja        t  \n",
       "2              342.0    Narodnog fronta 45        t  \n",
       "3               15.0       Kralja Petra bb        t  \n",
       "4               86.0                   NaN        t  "
      ]
     },
     "execution_count": 6,
     "metadata": {},
     "output_type": "execute_result"
    }
   ],
   "source": [
    "stanice.head()"
   ]
  },
  {
   "cell_type": "code",
   "execution_count": 7,
   "id": "d354b20d-166a-417b-9cfb-1c7447885615",
   "metadata": {},
   "outputs": [
    {
     "name": "stdout",
     "output_type": "stream",
     "text": [
      "Najbliža stanica je Kikinda Centar sa vrednošću id= 1 .\n"
     ]
    }
   ],
   "source": [
    "print(\"Najbliža stanica je\", stanice['k_name'].iloc[0], \"sa vrednošću id=\", stanice['id'][0],\".\")"
   ]
  },
  {
   "cell_type": "markdown",
   "id": "a4f50d35-3010-48f3-8f72-34068391080b",
   "metadata": {},
   "source": [
    "Обратите пажњу да неименовани индекс табеле није исти као вредност променљиве која се налази у колони `id`. Да бисмо издвојили, тј. филтрирали табелу `podaci` по тој вредности треба да је препознамо у колони `station_id`."
   ]
  },
  {
   "cell_type": "markdown",
   "id": "50e0596c-ed4f-4525-946a-1151230a260d",
   "metadata": {},
   "source": [
    "Сад кад имате све тражене табеле и податке одговарајућег типа, треба да издвојите само оне податке који се тичу вама најближе станице. У примеру који следи узета је станица са индексом 0. Ако ваша најближа станица није \"Кикинда Центар\", унесите прави индекс у приступник тамо где треба."
   ]
  },
  {
   "cell_type": "code",
   "execution_count": 8,
   "id": "ef04edd4-66cd-4231-8e4a-fa205d6f6eee",
   "metadata": {},
   "outputs": [],
   "source": [
    "podaci_najbliza=podaci.loc[podaci['station_id']==1]"
   ]
  },
  {
   "cell_type": "markdown",
   "id": "9650a1be-03f1-4742-8555-89fbe8cff103",
   "metadata": {},
   "source": [
    "Користите функцију `.head()` да проверите има ли података за тражену станицу у последњих месец дана. Ако их из било којих разлога нема, онда узмите другу најближу станицу."
   ]
  },
  {
   "cell_type": "code",
   "execution_count": 9,
   "id": "861e8a65-4515-4be2-b308-b636d7277508",
   "metadata": {},
   "outputs": [
    {
     "data": {
      "text/html": [
       "<div>\n",
       "<style scoped>\n",
       "    .dataframe tbody tr th:only-of-type {\n",
       "        vertical-align: middle;\n",
       "    }\n",
       "\n",
       "    .dataframe tbody tr th {\n",
       "        vertical-align: top;\n",
       "    }\n",
       "\n",
       "    .dataframe thead th {\n",
       "        text-align: right;\n",
       "    }\n",
       "</style>\n",
       "<table border=\"1\" class=\"dataframe\">\n",
       "  <thead>\n",
       "    <tr style=\"text-align: right;\">\n",
       "      <th></th>\n",
       "      <th>date_time</th>\n",
       "      <th>station_id</th>\n",
       "      <th>so2</th>\n",
       "      <th>pm10</th>\n",
       "      <th>o3</th>\n",
       "      <th>no2</th>\n",
       "      <th>nox</th>\n",
       "      <th>co</th>\n",
       "      <th>benzene</th>\n",
       "      <th>toluene</th>\n",
       "      <th>no</th>\n",
       "      <th>pm2_5</th>\n",
       "      <th>pm1</th>\n",
       "    </tr>\n",
       "  </thead>\n",
       "  <tbody>\n",
       "    <tr>\n",
       "      <th>0</th>\n",
       "      <td>2022-07-23 00:00:00</td>\n",
       "      <td>1</td>\n",
       "      <td>11.049364</td>\n",
       "      <td>NaN</td>\n",
       "      <td>49.426125</td>\n",
       "      <td>NaN</td>\n",
       "      <td>NaN</td>\n",
       "      <td>0.359702</td>\n",
       "      <td>NaN</td>\n",
       "      <td>NaN</td>\n",
       "      <td>NaN</td>\n",
       "      <td>NaN</td>\n",
       "      <td>NaN</td>\n",
       "    </tr>\n",
       "    <tr>\n",
       "      <th>61</th>\n",
       "      <td>2022-07-23 01:00:00</td>\n",
       "      <td>1</td>\n",
       "      <td>10.799930</td>\n",
       "      <td>NaN</td>\n",
       "      <td>46.952325</td>\n",
       "      <td>NaN</td>\n",
       "      <td>NaN</td>\n",
       "      <td>0.275790</td>\n",
       "      <td>NaN</td>\n",
       "      <td>NaN</td>\n",
       "      <td>NaN</td>\n",
       "      <td>NaN</td>\n",
       "      <td>NaN</td>\n",
       "    </tr>\n",
       "    <tr>\n",
       "      <th>122</th>\n",
       "      <td>2022-07-23 02:00:00</td>\n",
       "      <td>1</td>\n",
       "      <td>10.805167</td>\n",
       "      <td>NaN</td>\n",
       "      <td>44.348850</td>\n",
       "      <td>NaN</td>\n",
       "      <td>NaN</td>\n",
       "      <td>0.245697</td>\n",
       "      <td>NaN</td>\n",
       "      <td>NaN</td>\n",
       "      <td>NaN</td>\n",
       "      <td>NaN</td>\n",
       "      <td>NaN</td>\n",
       "    </tr>\n",
       "    <tr>\n",
       "      <th>183</th>\n",
       "      <td>2022-07-23 03:00:00</td>\n",
       "      <td>1</td>\n",
       "      <td>12.494574</td>\n",
       "      <td>NaN</td>\n",
       "      <td>31.354750</td>\n",
       "      <td>NaN</td>\n",
       "      <td>NaN</td>\n",
       "      <td>0.289381</td>\n",
       "      <td>NaN</td>\n",
       "      <td>NaN</td>\n",
       "      <td>NaN</td>\n",
       "      <td>NaN</td>\n",
       "      <td>NaN</td>\n",
       "    </tr>\n",
       "    <tr>\n",
       "      <th>244</th>\n",
       "      <td>2022-07-23 04:00:00</td>\n",
       "      <td>1</td>\n",
       "      <td>16.475138</td>\n",
       "      <td>NaN</td>\n",
       "      <td>43.607375</td>\n",
       "      <td>NaN</td>\n",
       "      <td>NaN</td>\n",
       "      <td>0.301263</td>\n",
       "      <td>NaN</td>\n",
       "      <td>NaN</td>\n",
       "      <td>NaN</td>\n",
       "      <td>NaN</td>\n",
       "      <td>NaN</td>\n",
       "    </tr>\n",
       "  </tbody>\n",
       "</table>\n",
       "</div>"
      ],
      "text/plain": [
       "              date_time  station_id        so2  pm10         o3  no2  nox  \\\n",
       "0   2022-07-23 00:00:00           1  11.049364   NaN  49.426125  NaN  NaN   \n",
       "61  2022-07-23 01:00:00           1  10.799930   NaN  46.952325  NaN  NaN   \n",
       "122 2022-07-23 02:00:00           1  10.805167   NaN  44.348850  NaN  NaN   \n",
       "183 2022-07-23 03:00:00           1  12.494574   NaN  31.354750  NaN  NaN   \n",
       "244 2022-07-23 04:00:00           1  16.475138   NaN  43.607375  NaN  NaN   \n",
       "\n",
       "           co  benzene  toluene  no  pm2_5  pm1  \n",
       "0    0.359702      NaN      NaN NaN    NaN  NaN  \n",
       "61   0.275790      NaN      NaN NaN    NaN  NaN  \n",
       "122  0.245697      NaN      NaN NaN    NaN  NaN  \n",
       "183  0.289381      NaN      NaN NaN    NaN  NaN  \n",
       "244  0.301263      NaN      NaN NaN    NaN  NaN  "
      ]
     },
     "execution_count": 9,
     "metadata": {},
     "output_type": "execute_result"
    }
   ],
   "source": [
    "podaci_najbliza.head()"
   ]
  },
  {
   "cell_type": "markdown",
   "id": "34754f32-da12-4522-8154-1bc81c34ead7",
   "metadata": {},
   "source": [
    "Ми ћемо, примера ради, да прикажемо измерене вредности из прве колоне са параметрима квалитета ваздуха, `so2`. Ви изаберите који желите. Иако нам је за цртање овог графика потребна само једна линија кôда, ми ћемо да би побољшали изглед графика употребити још три. Подразумевани график у Џупитеру је прилично узан због чега није погодан за дуже временске серије. Да би график покрио ширину расположивог екрана, ставићемо да су димензије графика 18 пута 6 инча. Друго, временске ознаке садрже велики број карактера па се зато преклапају ако их све хоризонтално испишемо на _x_-оси. То можемо да решимо ако ознаке исписујемо вертикално. Треће, ставићемо мрежу (_grid_) преко графика како бисмо лакше очитавали вредности."
   ]
  },
  {
   "cell_type": "code",
   "execution_count": 10,
   "id": "6e7d0c14-74b5-4e05-bb79-83d116bdb5b7",
   "metadata": {},
   "outputs": [
    {
     "data": {
      "image/png": "[encoded data removed]",
      "text/plain": [
       "<Figure size 1296x432 with 1 Axes>"
      ]
     },
     "metadata": {
      "needs_background": "light"
     },
     "output_type": "display_data"
    }
   ],
   "source": [
    "plt.figure(figsize=(18,6)) # dimenzije grafika\n",
    "plt.plot(podaci_najbliza['date_time'],podaci_najbliza['so2'])\n",
    "plt.xticks(rotation=90);   # date_time podatke ispisujemo vertikalno\n",
    "plt.grid()"
   ]
  },
  {
   "cell_type": "markdown",
   "id": "2030c588-72d6-4ed8-b6c9-e51f555fae99",
   "metadata": {},
   "source": [
    "Исте ове податке можемо да прикажемо и хистограмом. Тада ћемо јасно видети расподелу измерених вредности, односно колико је пута очитана која вредност за месец дана. Са друге стране, изгубићемо информацију о времену када је вршено мерење. Да би график био прегледнији нагласићемо да интервал од 0 до 30 делимо на 30 делова."
   ]
  },
  {
   "cell_type": "code",
   "execution_count": 11,
   "id": "d15cec4e-305f-4696-982d-1eae1129ee17",
   "metadata": {},
   "outputs": [
    {
     "data": {
      "text/plain": [
       "<AxesSubplot:>"
      ]
     },
     "execution_count": 11,
     "metadata": {},
     "output_type": "execute_result"
    },
    {
     "data": {
      "image/png": "[encoded data removed]",
      "text/plain": [
       "<Figure size 432x288 with 1 Axes>"
      ]
     },
     "metadata": {
      "needs_background": "light"
     },
     "output_type": "display_data"
    }
   ],
   "source": [
    "podaci_najbliza['so2'].hist(bins=30,range=(0,30))"
   ]
  },
  {
   "cell_type": "markdown",
   "id": "430f2a01-475b-421f-923c-a0ae2c4a5935",
   "metadata": {},
   "source": [
    "Овде анализа података о квалитету ваздуха тек почиње. Тумачење ћемо препустити вама. Још боље би било да то радите тимски са професорима у школи. Из мало труда, могли бисте да на направите \"контролну таблу\" где би у рeалном времену били исцртавани актуелни подаци са упозорењем када је квалитет ваздуха испод прихватљивог нивоа. "
   ]
  }
 ],
 "metadata": {
  "kernelspec": {
   "display_name": "Python 3 (ipykernel)",
   "language": "python",
   "name": "python3"
  },
  "language_info": {
   "codemirror_mode": {
    "name": "ipython",
    "version": 3
   },
   "file_extension": ".py",
   "mimetype": "text/x-python",
   "name": "python",
   "nbconvert_exporter": "python",
   "pygments_lexer": "ipython3",
   "version": "3.10.4"
  },
  "vscode": {
   "interpreter": {
    "hash": "1e53f9a0cb753ca1ab390bc7dc4ba26e7e3a3e2e11ea0cedd936bd3da914dc0f"
   }
  }
 },
 "nbformat": 4,
 "nbformat_minor": 5
}
