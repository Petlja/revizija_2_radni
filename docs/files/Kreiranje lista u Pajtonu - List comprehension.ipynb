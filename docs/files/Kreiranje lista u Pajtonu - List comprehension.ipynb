{
 "cells": [
  {
   "cell_type": "markdown",
   "id": "d7a8d90c-246d-4e42-b44c-73e590d251b8",
   "metadata": {},
   "source": [
    "## Креирање листа у Пајтону уз помоћ конструкције _list comprehension_"
   ]
  },
  {
   "cell_type": "markdown",
   "id": "2c9be412-f554-410c-bda0-09d7577022a4",
   "metadata": {},
   "source": [
    "Листе елемената постоје у многим програмским језицима. Најједноставнији начин да направите листу је да вредности елемената листе наведете ручно, односно да их укуцате. На пример, листа бројева мањих од 20 који су дељиви са 3 може да се дефинише овако:"
   ]
  },
  {
   "cell_type": "code",
   "execution_count": 1,
   "id": "6a1b630a-a360-49a3-bb81-563e55ba4096",
   "metadata": {},
   "outputs": [],
   "source": [
    "d3=[3,6,9,12,15,18]"
   ]
  },
  {
   "cell_type": "markdown",
   "id": "6c3cd63b-cc02-4b56-8031-545ef9089acc",
   "metadata": {},
   "source": [
    "Што је дужа и сложенија листа, теже нам је да укуцамо податке. Штавише, могућност грешке постаје све већа. Много је боље да овакав једноставан задатак поверимо рачунару, тј. да напишемо програм који ће направити листу. То можемо да урадимо на следећи начин:"
   ]
  },
  {
   "cell_type": "code",
   "execution_count": 1,
   "id": "81bd37bc-bb5b-4dbf-b83c-3c5dce6641c9",
   "metadata": {},
   "outputs": [],
   "source": [
    "d3=[]                  # prvo promenljivoj pridružujemo praznu listu\n",
    "for i in range(1,21):  # zapamtite da range(a,b) uzima vrednosti od a do b-1 \n",
    "    if i%3==0:         # operator % nam daje sotatak pri deljenju dva cela broja pa proveravamo da li je ostatak nula\n",
    "        d3.append(i)   # konačno, listi pridružujemo tekuću vrednost izraza ako je uslov ispunjen"
   ]
  },
  {
   "cell_type": "code",
   "execution_count": 3,
   "id": "5d1fb7f9-50d5-44af-b8db-36e24d45aa66",
   "metadata": {},
   "outputs": [
    {
     "data": {
      "text/plain": [
       "[3, 6, 9, 12, 15, 18]"
      ]
     },
     "execution_count": 3,
     "metadata": {},
     "output_type": "execute_result"
    }
   ],
   "source": [
    "d3"
   ]
  },
  {
   "cell_type": "markdown",
   "id": "f9c29188-0349-41ab-a094-10f01a6ad456",
   "metadata": {},
   "source": [
    "Биле су нам потребне четири линије кôда да напишемо програм који прави тражену листу, али тако аутоматизујемо посао. Уместо 21 бисмо могли, на пример, да ставимо 2021. Програм за то би и даље био дуг четири линије, а завршио би посао који бисмо \"пешке\" укуцавали пола сата. "
   ]
  },
  {
   "cell_type": "markdown",
   "id": "a1e08bfd-e2ac-4d46-98d2-5459f46da268",
   "metadata": {},
   "source": [
    "Овакав начин креирања листе је уобичајен за све програмске језике. Синтакса може да буде мало другачија, али структура програма мора да буде иста. Пајтон је посебан по томе што има и посебну конструкцију која омогућава да листе креирамо једноставније. Та се конструкција на енглеском зове **_list comprehension_**. Она омогућава да цео програм, у поједностављеној варијанти, ставимо унутар угластих заграда и тако у једној линији креирамо листу."
   ]
  },
  {
   "cell_type": "code",
   "execution_count": 4,
   "id": "f719685e-6491-454c-a566-fb02e6c6cac3",
   "metadata": {},
   "outputs": [],
   "source": [
    "d3=[i for i in range(1,21) if i%3==0]"
   ]
  },
  {
   "cell_type": "markdown",
   "id": "bb78feae-0c15-4f7a-9ff9-70687f428b9d",
   "metadata": {},
   "source": [
    "Приметите структуру кôда. У угластим заградама имамо прво израз (`i`) чија се вредност придружује листи, па петљу кроз коју се мења вредност индекса (`for i in range(1,21)`) и на крају услов који је неопходан да би се тај елемент придружио листи (`if i%3==0`). У `for` петљи не мора да се појави `range()` као колекција бројева. Уместо `range(1,21)` смо могли да ставимо и листу `[1,2,3,4,5,6,7,8,9,10,11,12,13,14,15,16,17,18,19,20]`. Петља би онда пролазила кроз листу и проверавала да ли се индекс `i` налази у листи. Свеједно, први начин је лакши и елегантнији."
   ]
  },
  {
   "cell_type": "markdown",
   "id": "ab659af3-f522-4163-91ac-018a4bbd7129",
   "metadata": {},
   "source": [
    "Да пробамо сада како ова конструкција ради на једном једноставнијем примеру. Направићемо листу квадрата свих природних бројева од 1 до 100. Овде нема услова већ за сваку вредност индекса `i` листи `kvad` придружујемо по једну вредност израза `i**2`."
   ]
  },
  {
   "cell_type": "code",
   "execution_count": 5,
   "id": "4a6de523-ed38-40e8-babf-f23705e34c42",
   "metadata": {},
   "outputs": [],
   "source": [
    "kvad=[i**2 for i in range(1,101)]"
   ]
  },
  {
   "cell_type": "markdown",
   "id": "ef618308-5c87-4dfe-bff8-d0e8363d30e9",
   "metadata": {},
   "source": [
    "Да преведемо шта смо тачно написали у претходној ћелији: листи `kvad` придружи квадрат броја `i` за сваку вредност `i` од 1 до 100. Ако вам је до сада то промакло, степен броја у Пајтону се добија помоћу опратора `**`. Тако је `5**2` једнако 25, док је `2**3` једнако 8."
   ]
  },
  {
   "cell_type": "markdown",
   "id": "0a3c2e9f-a8be-473c-bc3b-7e79d882dd0a",
   "metadata": {},
   "source": [
    "Да бисмо проверили шта се налази у листи `kvad`, одштампаћемо вредности првих 15 елемената."
   ]
  },
  {
   "cell_type": "code",
   "execution_count": 6,
   "id": "391aec41-3fdb-41b8-a968-2a3bbf4de0d8",
   "metadata": {},
   "outputs": [
    {
     "name": "stdout",
     "output_type": "stream",
     "text": [
      "[1, 4, 9, 16, 25, 36, 49, 64, 81, 100, 121, 144, 169, 196, 225]\n"
     ]
    }
   ],
   "source": [
    "print(kvad[:15])"
   ]
  },
  {
   "cell_type": "markdown",
   "id": "23834896-b2be-4f39-a668-66912951dda9",
   "metadata": {},
   "source": [
    "Слично можемо да радимо и са листама у којима су стрингови. Ево једног примера."
   ]
  },
  {
   "cell_type": "code",
   "execution_count": 2,
   "id": "101beb55-d3da-4a11-8c0c-0b87fc344d0b",
   "metadata": {},
   "outputs": [],
   "source": [
    "string='Slično možemo da radimo i sa listama u kojima su stringovi. Evo jednog primera.'\n",
    "delovi=string.split()"
   ]
  },
  {
   "cell_type": "markdown",
   "id": "ccffd653-fc77-457a-b7a3-54f2758ee958",
   "metadata": {},
   "source": [
    "Уз помоћ метoде `split()` смо текст из претходне ћелије (променљива `string`) поделили на делове и придружили листи `lista`."
   ]
  },
  {
   "cell_type": "code",
   "execution_count": 3,
   "id": "2ac998d0-a50d-438b-9511-c305421221c1",
   "metadata": {},
   "outputs": [
    {
     "name": "stdout",
     "output_type": "stream",
     "text": [
      "['Slično', 'možemo', 'da', 'radimo', 'i', 'sa', 'listama', 'u', 'kojima', 'su', 'stringovi.', 'Evo', 'jednog', 'primera.']\n"
     ]
    }
   ],
   "source": [
    "print(delovi)"
   ]
  },
  {
   "cell_type": "markdown",
   "id": "6598f8d3-316a-495d-9a93-e6dfc36866ac",
   "metadata": {},
   "source": [
    "Сада ћемо уз помоћ Пајтонове конструкције за листе креирати листу која садржи само оне елементе чије вредности имају тачно 6 знакова. Можете ли ово да урадите сами?  "
   ]
  },
  {
   "cell_type": "code",
   "execution_count": 4,
   "id": "1d0a5e2e-41cd-431d-9e6d-2e7e0db8e189",
   "metadata": {},
   "outputs": [],
   "source": [
    "delovi6=[s for s in delovi if len(s)==6]"
   ]
  },
  {
   "cell_type": "code",
   "execution_count": 5,
   "id": "89c769f6-ced3-4bd8-a74e-a595c44efda6",
   "metadata": {},
   "outputs": [
    {
     "name": "stdout",
     "output_type": "stream",
     "text": [
      "['Slično', 'možemo', 'radimo', 'kojima', 'jednog']\n"
     ]
    }
   ],
   "source": [
    "print(delovi6)"
   ]
  },
  {
   "cell_type": "markdown",
   "id": "a5a1426b-622b-4f83-8aa1-7b5e38b79863",
   "metadata": {},
   "source": [
    "Користите овај \"пајтоновски\" начин креирања листа кад год можете је је једноставан и разумљив. Провежбајте задатке на ову тему из збирке."
   ]
  }
 ],
 "metadata": {
  "kernelspec": {
   "display_name": "Python 3",
   "language": "python",
   "name": "python3"
  },
  "language_info": {
   "codemirror_mode": {
    "name": "ipython",
    "version": 3
   },
   "file_extension": ".py",
   "mimetype": "text/x-python",
   "name": "python",
   "nbconvert_exporter": "python",
   "pygments_lexer": "ipython3",
   "version": "3.9.1"
  }
 },
 "nbformat": 4,
 "nbformat_minor": 5
}
