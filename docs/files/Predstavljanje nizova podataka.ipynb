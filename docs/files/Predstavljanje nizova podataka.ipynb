{
 "cells": [
  {
   "cell_type": "markdown",
   "id": "47cb4bb6-3d5e-4482-ab1a-766a0f08894b",
   "metadata": {},
   "source": [
    "# Представљање низова података"
   ]
  },
  {
   "cell_type": "markdown",
   "id": "355be392-7da3-4797-90ff-4e1720dba7ae",
   "metadata": {},
   "source": [
    "Библиотеке које ћемо користити у свесци увозимо на почетку:"
   ]
  },
  {
   "cell_type": "code",
   "execution_count": 102,
   "id": "a7c8eabd-4365-48f6-86af-46bac1d24cc2",
   "metadata": {},
   "outputs": [],
   "source": [
    "import matplotlib.pyplot as plt"
   ]
  },
  {
   "cell_type": "markdown",
   "id": "41de767d-d329-4056-9732-12690c8466ce",
   "metadata": {
    "tags": []
   },
   "source": [
    "## Дескриптивна статистика"
   ]
  },
  {
   "cell_type": "markdown",
   "id": "849610f9-45f2-4fc7-928c-7a0ddcba8d8c",
   "metadata": {},
   "source": [
    "Дескриптивна статистика је стручни назив за низ различитих мера којима описујемо одређени скуп података. Замислимо скуп у ком су записани бројеви ципела свих ученика у једном одељењу. Ми ћемо, једноставности ради, унети измишљене податке за једно мање одељење. Ви можете лако да унесете праве вредности за ваше одељење."
   ]
  },
  {
   "cell_type": "code",
   "execution_count": 92,
   "id": "7392611e-f0ff-43f5-b114-e728eecfdeda",
   "metadata": {},
   "outputs": [],
   "source": [
    "bc=[42,44,37,41,38,38,43,38,39,47,43,37,36,44,45,40,39,43,39,43]"
   ]
  },
  {
   "cell_type": "markdown",
   "id": "faae2193-838b-41e0-9791-d80266b6225e",
   "metadata": {},
   "source": [
    "Мере којима описујемо овакав скуп података углавном се тичу интервала вредности, просека и растура. Број елемената низа, минимум и максимум описују интервал у ком се налазе записане вредности. За описивање просека или типичне вредности најчешће узимамо средњу вредност (аритметичку средину) или медијану. За описивање растура, тј. очекиваног одступања појединачних вредности од просека користимо максимално апсолутно одступање или стандардну девијацију.\n",
    "\n",
    "Све ове мере посебно су важне код мерења. У природним наукама се скуп измерених вредности $\\{x_1,x_2,x_3...x_n\\}$ најчешће приказује као $\\bar{x}\\pm\\sigma_x$ при чему је $\\bar{x}$ средња вредност за цео скуп, док је $\\sigma_x$ стандардна девијација овог скупа измерених вредности. "
   ]
  },
  {
   "cell_type": "markdown",
   "id": "56d43184-02d9-424a-b25e-9319afb5b94e",
   "metadata": {},
   "source": [
    "### Мере за описивање просека"
   ]
  },
  {
   "cell_type": "markdown",
   "id": "d8e1b5b9-1b67-4357-b292-96b57e4f2981",
   "metadata": {},
   "source": [
    "Пајтон у стандардној библиотеци има функције за број елемената, минимум и максимум, али нема функције за рачунање средње вредности или медијане. Ваш први задатак ће бити да напишете функције које то раде."
   ]
  },
  {
   "cell_type": "markdown",
   "id": "cd34a0eb-1031-428b-9fa1-875fa423baba",
   "metadata": {},
   "source": [
    "__Средња вредност__ или аритметичка средина рачуна се као збир свих вредности у низу подељен са дужином низа. Аритметичка средина се рачуна по формули $$\\bar{x}=\\frac{\\sum_{k=1}^{n}x_k}{n}.$$"
   ]
  },
  {
   "cell_type": "markdown",
   "id": "74da231e-e728-4b07-bb89-3a585520f8fe",
   "metadata": {},
   "source": [
    "__Задатак__: Напишите функцију која враћа средњу вредност низа бројева."
   ]
  },
  {
   "cell_type": "code",
   "execution_count": 5,
   "id": "2dc43e58-442a-4a9c-8396-d5d127c707ce",
   "metadata": {},
   "outputs": [],
   "source": [
    "def sr_vred(L):\n",
    "    m=sum(L)/len(L)\n",
    "    return m"
   ]
  },
  {
   "cell_type": "markdown",
   "id": "440df31c-3edd-4e71-acc9-53fa64e18955",
   "metadata": {},
   "source": [
    "__Медијана__ је вредност средишњег елемента сортираног низа. Ако је број елемената у низу непаран, онда је то баш вредност средишњег елемента. Ако је број елемената паран, онда је медијана средња вредност за пар елемената у средини."
   ]
  },
  {
   "cell_type": "markdown",
   "id": "0fc3d810-86e2-4aca-8f7e-985c54cc71fc",
   "metadata": {},
   "source": [
    "__Задатак__: Напишите функцију која враћа медијану низа бројева."
   ]
  },
  {
   "cell_type": "code",
   "execution_count": 39,
   "id": "42cf3c7d-e59b-4638-893e-b298af949822",
   "metadata": {},
   "outputs": [],
   "source": [
    "def medijana(L):\n",
    "    n=len(L)\n",
    "    L.sort()\n",
    "    if n%2==1:\n",
    "        md=L[n//2]\n",
    "    else:\n",
    "        md=(L[n//2-1]+L[n//2])/2\n",
    "    return md"
   ]
  },
  {
   "cell_type": "markdown",
   "id": "d1fc526b-3460-4a88-ba33-4b1f82a2836f",
   "metadata": {},
   "source": [
    "Да видимо сада колико износе средња вредност и медијана низа бројева у листи `bc`."
   ]
  },
  {
   "cell_type": "code",
   "execution_count": 93,
   "id": "6ea2390f-9087-4ad2-a207-e578a1e0def9",
   "metadata": {},
   "outputs": [
    {
     "name": "stdout",
     "output_type": "stream",
     "text": [
      "srednja vrednost: 40.8   medijana: 40.5\n"
     ]
    }
   ],
   "source": [
    "print(\"srednja vrednost:\",sr_vred(bc),\"  medijana:\",medijana(bc))"
   ]
  },
  {
   "cell_type": "markdown",
   "id": "37ff7d66-2de5-4a59-92ae-5c875f34029e",
   "metadata": {},
   "source": [
    "### Мере за описивање растура"
   ]
  },
  {
   "cell_type": "markdown",
   "id": "116481db-e255-4894-a8ae-9e6a56d8b607",
   "metadata": {},
   "source": [
    "За описивање низа бројева сем просечне вредности потребно нам је да знамо и колико појединачне вредности одступају од тог просека. Други назив за одступање од просека је __девијација__. Постоје различите мере одступања. Најједноставнија је __максимална апсолутна девијација__. Јасно вам је да девијације могу да буду позитивне и негативне у зависности да ли је вредност већа или мања од просека. За меру растура свеједно је да ли је одступање са доње или горње стране. Зато нас интересује апсолутна вредност одступања."
   ]
  },
  {
   "cell_type": "markdown",
   "id": "85e26133-165f-420e-8b5a-df6645f51023",
   "metadata": {},
   "source": [
    "__Задатак__: Напишите функцију која враћа, по апсолутној вредности, највеће одступање од средње вредности."
   ]
  },
  {
   "cell_type": "code",
   "execution_count": 55,
   "id": "380a9691-8d44-4fbc-aa64-75543bffbd08",
   "metadata": {},
   "outputs": [],
   "source": [
    "def mad(L):\n",
    "    m=sr_vred(L)\n",
    "    d=[abs(x-m) for x in L]\n",
    "    mo=max(d)\n",
    "    return mo"
   ]
  },
  {
   "cell_type": "code",
   "execution_count": 95,
   "id": "4f660bd1-d81d-4530-b4e4-897bc44276e4",
   "metadata": {},
   "outputs": [
    {
     "data": {
      "text/plain": [
       "6.200000000000003"
      ]
     },
     "execution_count": 95,
     "metadata": {},
     "output_type": "execute_result"
    }
   ],
   "source": [
    "mad(bc)"
   ]
  },
  {
   "cell_type": "markdown",
   "id": "c0893c16-f00a-47f1-89e2-0af6fdf8b106",
   "metadata": {},
   "source": [
    "Статистичари кажу да је __стандардна девијација__ боља мера растура. Зашто је то тако нећемо објашњавати у приручнику за Пајтон, боље погледајте уџбеник статистике или обраде резултата мерења. Нама је овде важније да знамо да је израчунамо. Стандардна девијација се рачуна као корен средњег квадратног одступања, тј. као $$\\sigma_x=\\sqrt{\\frac{1}{n-1}\\sum_{k=1}^{n}{(x_k-\\bar{x})^{2}}}.$$"
   ]
  },
  {
   "cell_type": "markdown",
   "id": "c3652dd0-dcb0-4f28-aac0-2b2b117a3d0a",
   "metadata": {},
   "source": [
    "__Задатак__: Напишите функцију која враћа стандардну девијацију низа бројева."
   ]
  },
  {
   "cell_type": "code",
   "execution_count": 57,
   "id": "34a5f98a-b5da-4d98-9f35-c3f70bc15579",
   "metadata": {},
   "outputs": [],
   "source": [
    "def std(L):\n",
    "    m=sr_vred(L)\n",
    "    n=len(L)\n",
    "    ko=[(x-m)**2 for x in L]    # **2 je dizanje na drugi stepen, tj. kvadriranje\n",
    "    sko=sum(ko)/(n-1)           # zbir svih kvadrata odstupanja delimo sa n-1\n",
    "    std=sko**0.5                # **0.5 je dizanje na stepen 0.5 što je isto što i korenovanje\n",
    "    return std"
   ]
  },
  {
   "cell_type": "code",
   "execution_count": 94,
   "id": "5fec1daf-ac29-4594-938d-aeeb08b6c317",
   "metadata": {},
   "outputs": [
    {
     "data": {
      "text/plain": [
       "3.1051739505473597"
      ]
     },
     "execution_count": 94,
     "metadata": {},
     "output_type": "execute_result"
    }
   ],
   "source": [
    "std(bc)"
   ]
  },
  {
   "cell_type": "markdown",
   "id": "9fbcc4ca-4f4b-40b8-9d8b-7fd6a5ee253a",
   "metadata": {},
   "source": [
    "Коначно, имамо и средњу вредност и стандардну девијацију па низ бројева ципела можемо да прикажемо онако како би то научници урадили: као средња вредност ± стандардна девијација. "
   ]
  },
  {
   "cell_type": "code",
   "execution_count": 99,
   "id": "ca0f53a7-3c0b-4eff-a117-604f4096fe56",
   "metadata": {},
   "outputs": [
    {
     "name": "stdout",
     "output_type": "stream",
     "text": [
      "40.8 ± 3.1\n"
     ]
    }
   ],
   "source": [
    "print(round(sr_vred(bc),1),\"±\",round(std(bc),1)) # round(...,1) zaokružuje broj na jednu decimalu"
   ]
  },
  {
   "cell_type": "markdown",
   "id": "f52b28a7-a434-4eb8-bd08-c2b4e36dcc24",
   "metadata": {},
   "source": [
    "На крају ове приче о дескриптивној статистици треба да знате да све ове функције постоје у библиотекама као што су _pandas_ или _numpy_. Нисмо хтели сад да их користимо као готове јер је било важније да знате како се израчунавају. "
   ]
  },
  {
   "cell_type": "markdown",
   "id": "400043db-51d1-4723-a579-86c26e18c013",
   "metadata": {},
   "source": [
    "### Фреквенцијска анализа"
   ]
  },
  {
   "cell_type": "markdown",
   "id": "6a139084-1f28-4481-ba82-5819ba0ba816",
   "metadata": {},
   "source": [
    "За било који нумерички или знаковни низ можемо да урадимо статистику појављивања појединачних вредности. Кад бројеви узимају вредности само из мањег скупа тачно одређених вредности, фреквенцијска анализа има више смисла. Бројеви ципела за ученике једног одељења, управо је пример таквог (дискретног) скупа вредности. "
   ]
  },
  {
   "cell_type": "markdown",
   "id": "fedaf270-ae85-4f26-93b2-5ff61e2e1777",
   "metadata": {},
   "source": [
    "Овде ћемо показати како распон од најмањег до највећег познатог броја ципела можемо да претворимо у интервал целих бројева за које пребројавамо колико су се пута појавили."
   ]
  },
  {
   "cell_type": "code",
   "execution_count": 100,
   "id": "2ce948a7-87d8-4a82-bf88-1f6a17439ab8",
   "metadata": {},
   "outputs": [
    {
     "name": "stdout",
     "output_type": "stream",
     "text": [
      "36 1\n",
      "37 2\n",
      "38 3\n",
      "39 3\n",
      "40 1\n",
      "41 1\n",
      "42 1\n",
      "43 4\n",
      "44 2\n",
      "45 1\n",
      "46 0\n",
      "47 1\n"
     ]
    }
   ],
   "source": [
    "mn=min(bc)\n",
    "mx=max(bc)\n",
    "interval=list(range(mn,mx+1))        # prvo pravimo 'range' od mn do mx pa ga pretvaramo u listu \n",
    "bp=[]                                # lista sa brojem pojavljivanja je na početku prazna\n",
    "for i in interval:                   # za svaki broj iz intervala\n",
    "    broj_pojavljivanja=bc.count(i)   # prebrojavamo koliko se puta pojavljuje\n",
    "    bp.append(broj_pojavljivanja)    # taj broj dodajemo listi bp\n",
    "    print(i,broj_pojavljivanja)"
   ]
  },
  {
   "cell_type": "markdown",
   "id": "5a6bdf3d-2ba0-4972-869d-1be08446d7bc",
   "metadata": {},
   "source": [
    "Одавде видимо који су бројеви ципела чешћи од других. Ципеле број 43 има највећи број ученика. То би могла да буде корисна информација трговцима који набављају ципеле за средњошколце. Мера која нам даје вредност променљиве која се у узорку појављује највећи број пута, назива се __мод__. Пајтон у стандардној библиотеци нема ову функцију, али је библиотеке за анализу података имају. Да ли бисте могли да напишете функцију која враћа мод? Имајте у виду да различите вредности могу да имају исти број појављивања. Тада низ података има више модова."
   ]
  },
  {
   "cell_type": "markdown",
   "id": "f4801514-0ae8-4af8-a5c8-c4f471e3ae1c",
   "metadata": {},
   "source": [
    "Из табеларног приказа није сасвим лако видети расподелу фреквенција. Боље би било да их прикажемо графички. Ево како су такав задатак решавали људи пре педесет година кад су рачунске машине штампале само карактере. Једноставно, за сваку вредност приказивали један исти карактер онолико пута колико колика им је фреквенција. Најлакше је било да за сваку вредност карактере прикажу у посебном реду.  "
   ]
  },
  {
   "cell_type": "code",
   "execution_count": 98,
   "id": "72ae8cd7-97d4-472b-8fe2-948e2d6891b5",
   "metadata": {},
   "outputs": [
    {
     "name": "stdout",
     "output_type": "stream",
     "text": [
      "36 #\n",
      "37 ##\n",
      "38 ###\n",
      "39 ###\n",
      "40 #\n",
      "41 #\n",
      "42 #\n",
      "43 ####\n",
      "44 ##\n",
      "45 #\n",
      "46 \n",
      "47 #\n"
     ]
    }
   ],
   "source": [
    "for i in range(len(interval)):\n",
    "    print(interval[i],\"#\"*bp[i])"
   ]
  },
  {
   "cell_type": "markdown",
   "id": "95eb8304-ab86-4713-af38-08ad4327d629",
   "metadata": {},
   "source": [
    "Видите ли да овде не постоји једна доминантна вредност око које се остале гомилају? Изггледа као да ова раподела има два \"пика\" или мода: један за величине 38-39, а други за 43. Истина, ципеле број 43 се најчешће појављују, али не знамо да ли би тако остало и да имамо већи узорак, тј. да смо прикупили податке од свих ученика једног разреда. На овој раподели видимо два брдашца или брега. Расподеле које изгледају као два одвојена брега називамо бимодалним. Биће да овде имамо преклопљене две расподеле и да један мод одговара женским, а други мушким ципелама. То би, такође, могла да буде корисна информација трговцима који набављају обућу за средњошколце.  "
   ]
  },
  {
   "cell_type": "markdown",
   "id": "f8f7111c-b259-4a24-8d18-a6ed6d065aec",
   "metadata": {},
   "source": [
    "Ово је била претеча графичког приказивања фреквенција одређених вредности података. Тако су људи и руком на папиру радили. Ми данас не морамо тако. Имамо на располагању много бољу хардвер. Пајтон има функције које то могу да искористе."
   ]
  },
  {
   "cell_type": "markdown",
   "id": "926325ca-c8d2-44a6-8e85-9683abeddc3b",
   "metadata": {},
   "source": [
    "## Графичко представљање низова података"
   ]
  },
  {
   "cell_type": "markdown",
   "id": "4596a251-5440-4ec6-88f7-58a38d5275a0",
   "metadata": {},
   "source": [
    "Велику количину података није лако представити. Због тога се подаци организују у табеле, групишу и пребројавају. Зато се раде обрада и анализа података. Да би овај процес био једноставнији и разумљивији потребно је да \"видимо\" податаке. Графичко представљање података постоји већ вековима, али никада није било тако важно као данас када је количина података са којом се срећемо неупоредиво већа него раније. Графичко приказивање података, или __визуелизација__, има задатак да верно прикаже податке и истакне оно што сматрамо најважнијим. Иако ова два захтева могу да буду супротстављена, добра визуелизација мора да испуни оба."
   ]
  },
  {
   "cell_type": "markdown",
   "id": "c7873690-59d5-4fbb-a316-66aebc17ec9a",
   "metadata": {},
   "source": [
    "Да бисмо податке графички приказали у Пајтону потребно је да их организујемо у низове или табеле."
   ]
  },
  {
   "cell_type": "markdown",
   "id": "85860d91-a51a-4eff-820e-8f256c16ef6f",
   "metadata": {},
   "source": [
    "### Коришћење библиотеке `matplotlib.pyplot` за визуелизацију"
   ]
  },
  {
   "cell_type": "markdown",
   "id": "ad8d5d66-88db-44d1-afa3-135dbca846e7",
   "metadata": {},
   "source": [
    "Стандардна Пајтонова библиотека нема функције за цртање графика. Зато је неопходно да увеземо неку која те функције има. Најчешће се за визуелизацију увози библиотека `matplotlib.pyplot`. Због тога многи Пајтон програми на самом почетку имају `import matplotlib.pyplot as plt` (као што и ми имамо на врху ове ствеске), што значи да одмах увозимо тражену библиотеку компликованог имена уз напомену да ћемо је убудуће позивати преко скраћеног имена `plt`."
   ]
  },
  {
   "cell_type": "markdown",
   "id": "fecae5f9-0821-4514-9ac7-663f39650ccc",
   "metadata": {},
   "source": [
    "Ова библиотека има огроман број различитих функција и опција за приказивање резултата. (Пробајте `dir(plt)` да видите шта све у библиотеци постоји.) Ми ћемо овде приказати само неколико најчешће коришћених."
   ]
  },
  {
   "cell_type": "markdown",
   "id": "85592b56-9934-40d2-8de5-c07c030a552a",
   "metadata": {},
   "source": [
    "### Линијски, тачкасти и стубични дијаграми"
   ]
  },
  {
   "cell_type": "markdown",
   "id": "d1a82f21-9278-4c7f-8988-115829ba539c",
   "metadata": {},
   "source": [
    "Екран рачунара, као и папир на ком цртамо графиконе, има две димензије које користимо за потребе визуелизације. Где год да ставимо тачку, она име две координате: _x_ по хоризонтали и _y_ по вертикали. Како год да приказујемо податке, морамо да их сведемо на две димензије и да цео графикон прикажемо као скуп тачака у равни. Због тога су најједноставнији они графикони где низ тачака одређују два низа координата, један за _x_, други за _y_-осу."
   ]
  },
  {
   "cell_type": "markdown",
   "id": "1669859a-9ccb-4ad8-b3f8-077bfaf39b2b",
   "metadata": {},
   "source": [
    "У следећем примеру ћемо помоћу функције `scatter()` приказати __тачкасти дијаграм__, односно тачке одређене са два низа координата: `x=[3,4,5]` и `y=[4,2,1]`. Приметите како за низове координата користимо листе. Тако је најједноставније."
   ]
  },
  {
   "cell_type": "code",
   "execution_count": 2,
   "id": "634affca-ec33-4fac-b9b8-5bd993721ec9",
   "metadata": {},
   "outputs": [
    {
     "data": {
      "text/plain": [
       "<matplotlib.collections.PathCollection at 0x24e3d41ed00>"
      ]
     },
     "execution_count": 2,
     "metadata": {},
     "output_type": "execute_result"
    },
    {
     "data": {
      "image/png": "[encoded data removed]",
      "text/plain": [
       "<Figure size 432x288 with 1 Axes>"
      ]
     },
     "metadata": {
      "needs_background": "light"
     },
     "output_type": "display_data"
    }
   ],
   "source": [
    "x=[3,4,5]\n",
    "y=[4,2,1]\n",
    "plt.scatter(x,y)"
   ]
  },
  {
   "cell_type": "markdown",
   "id": "e0f533a3-1a61-417a-8907-7c8a3d3c84c0",
   "metadata": {},
   "source": [
    "Вероватно примећујете да координатни систем не почиње од нуле. Функција сама подешава границе тако да максимално искорити простор који је на располагању. То можете да промените сами помоћу функција `xlim()` и `ylim()`. Ставите, на пример,\n",
    "```\n",
    "plt.xlim([0,6])\n",
    "plt.ylim([0,6])\n",
    "```\n",
    "одмах после линије у којој је `scatter()` функција."
   ]
  },
  {
   "cell_type": "markdown",
   "id": "fd542f40-bd5a-4b7e-8202-7fe62a996976",
   "metadata": {},
   "source": [
    "Претходни пример је вероватно превише једноставан па ћемо дати још један. Ми у пракси ретко кад укуцавамо све вредности које треба приказати на графику. Податке за график или учитавамо из неког фајла или их рачунамо. Овде ћемо дати пример са рачунањем вредности. Конкретно, узећемо све целобројне вредности од -5 до 5 за _x_ координату, а њихове квадрате за _y_ координату.\n",
    "\n",
    "Начин на који записујемо све бројаве од -5 до 5 вам је можда необичан, али не желимо да куцамо свих 11 бројева. Зато користимо колекцију типа `range` која даје све те бројеве, да би је потом претворили у листу помоћу функције `list()`. За другу координату рачунамо вредности користећи _list comprehension_ конструкцију. Унутар угластих заграда пише да у листу уносимо квадрате броја `t` за свако `t` из листе `x`. На крају прикажемо податке на графику као што смо радили и у претходном примеру. "
   ]
  },
  {
   "cell_type": "code",
   "execution_count": 3,
   "id": "0bcabefc-1c25-432e-9098-36af24877d21",
   "metadata": {},
   "outputs": [
    {
     "data": {
      "text/plain": [
       "<matplotlib.collections.PathCollection at 0x24e3dbee250>"
      ]
     },
     "execution_count": 3,
     "metadata": {},
     "output_type": "execute_result"
    },
    {
     "data": {
      "image/png": "[encoded data removed]",
      "text/plain": [
       "<Figure size 432x288 with 1 Axes>"
      ]
     },
     "metadata": {
      "needs_background": "light"
     },
     "output_type": "display_data"
    }
   ],
   "source": [
    "x=list(range(-5,6))\n",
    "y=[t**2 for t in x]\n",
    "plt.scatter(x,y)"
   ]
  },
  {
   "cell_type": "markdown",
   "id": "13ec7741-58ec-47a5-a337-7e14fe3e9ada",
   "metadata": {},
   "source": [
    "Тачкасти дијаграми су стандарни начин приказа података који су добијени мерењем. Ипак, често се уместо тачкастих користе __линијски дијаграми__ који суседне тачке у низу повезују правим линијама, односно дужима. За овај тип дијаграма користимо функцију `plot()`. Да видимо сад исте оне податке од малопре на линијском дијаграму. "
   ]
  },
  {
   "cell_type": "code",
   "execution_count": 4,
   "id": "405004f9-498a-4544-93c8-f04109e66290",
   "metadata": {},
   "outputs": [
    {
     "data": {
      "text/plain": [
       "[<matplotlib.lines.Line2D at 0x24e3dc53430>]"
      ]
     },
     "execution_count": 4,
     "metadata": {},
     "output_type": "execute_result"
    },
    {
     "data": {
      "image/png": "[encoded data removed]",
      "text/plain": [
       "<Figure size 432x288 with 1 Axes>"
      ]
     },
     "metadata": {
      "needs_background": "light"
     },
     "output_type": "display_data"
    }
   ],
   "source": [
    "x=list(range(-5,6))\n",
    "y=[t**2 for t in x]\n",
    "plt.plot(x,y)"
   ]
  },
  {
   "cell_type": "markdown",
   "id": "a540e801-f1a0-4e08-a08c-764e9662027b",
   "metadata": {},
   "source": [
    "Овако смо добили изломљену криву линију која личи на параболу. Ако хоћете да буде мање изломљена, узмите више тачака из интервала од -5 до 5."
   ]
  },
  {
   "cell_type": "markdown",
   "id": "60249ced-baf2-4798-a20b-f095836519bf",
   "metadata": {},
   "source": [
    "Некад имамо само један низ података који хоћемо да прикажемо графички. На пример, број поена који је дао Стеф Кари у финалној серији НБА лиге: 34, 29, 31, 43, 16, 34. Како да прикажемо ове податке кад имамо само једну координату? Истина је, заправо, да имамо и другу, само што није експлицитно наведена. То је редни број утакмице. Пошто података о броју поена има шест, онда су одговарајуће вредности за _x_-координату бројеви од 1 до 6. "
   ]
  },
  {
   "cell_type": "code",
   "execution_count": 5,
   "id": "481d23ad-523d-44c5-b704-b652b7cc3abe",
   "metadata": {},
   "outputs": [
    {
     "data": {
      "text/plain": [
       "<BarContainer object of 6 artists>"
      ]
     },
     "execution_count": 5,
     "metadata": {},
     "output_type": "execute_result"
    },
    {
     "data": {
      "image/png": "[encoded data removed]",
      "text/plain": [
       "<Figure size 432x288 with 1 Axes>"
      ]
     },
     "metadata": {
      "needs_background": "light"
     },
     "output_type": "display_data"
    }
   ],
   "source": [
    "pts=[34,29,31,43,16,34]\n",
    "plt.bar([1,2,3,4,5,6],pts)"
   ]
  },
  {
   "cell_type": "markdown",
   "id": "3eafcdd4-f84a-428b-b36a-1673f4fe195b",
   "metadata": {},
   "source": [
    "За разлику од тачкастих и линијских дијаграма где вредности за _x_ и _y_ координате могу да имају било које нецелобројне вредности, __стубичне дијаграме__ обично користимо за податке који на _x_-оси имају узастопне целобројне вредности, редне бројеве или чак стрингове као називе категорија. Идеја стубичног дијагарама је да омогући лако поређење између вредности у низу. То се најбоље види ако су вредности на _x_-оси еквидистантне (тј. да су растојања између суседних стубића иста). Због тога су редни бројеви или називи категорија идеални."
   ]
  },
  {
   "cell_type": "markdown",
   "id": "0ced614f-440c-405d-958f-e77e6b865cab",
   "metadata": {},
   "source": [
    "__Задатак__: Прикажите стубични дијаграм за фреквенције одређених бројева ципела садржаних у листи `bc`."
   ]
  },
  {
   "cell_type": "code",
   "execution_count": 103,
   "id": "bb1d3ecd-8232-4d91-b376-bef59b74eaaa",
   "metadata": {},
   "outputs": [
    {
     "data": {
      "text/plain": [
       "<BarContainer object of 12 artists>"
      ]
     },
     "execution_count": 103,
     "metadata": {},
     "output_type": "execute_result"
    },
    {
     "data": {
      "image/png": "[encoded data removed]",
      "text/plain": [
       "<Figure size 432x288 with 1 Axes>"
      ]
     },
     "metadata": {
      "needs_background": "light"
     },
     "output_type": "display_data"
    }
   ],
   "source": [
    "plt.bar(interval,bp)"
   ]
  },
  {
   "cell_type": "markdown",
   "id": "b8f62763-f059-417a-ad96-2a4e763691bf",
   "metadata": {},
   "source": [
    "Стубучни дијаграм је намењен независно променљивим које имају дискретне, тј. унпред утврђене фиксне вредности. То не морају да буду само нумеричке већ и номиналне променљиве."
   ]
  },
  {
   "cell_type": "markdown",
   "id": "9730ecf6-f4fc-4642-b703-c382440f7d6f",
   "metadata": {},
   "source": [
    "У листи која следи наведена су имена свих победника Вимблдона у мушкој конкуренцији у \"опен ери\", тј. од 1968. до 2022. године. Можете ли да прикажете фреквенције победника помоћу стубичног дијаграма?"
   ]
  },
  {
   "cell_type": "code",
   "execution_count": 108,
   "id": "f3c31d5d-0844-4efd-8041-11e90b2b7d5a",
   "metadata": {},
   "outputs": [],
   "source": [
    "ww=[\"Rod Laver\", \"Rod Laver\", \"John Newcombe\", \"John Newcombe\", \"Stan Smith\", \"Jan Kodeš\", \"Jimmy Connors\", \n",
    "    \"Arthur Ashe\", \"Björn Borg\", \"Björn Borg\", \"Björn Borg\", \"Björn Borg\", \"Björn Borg\", \"John McEnroe\",\n",
    "    \"Jimmy Connors\", \"John McEnroe\", \"John McEnroe\", \"Boris Becker\", \"Boris Becker\", \"Pat Cash\", \"Stefan Edberg\",\n",
    "    \"Boris Becker\", \"Stefan Edberg\", \"Michael Stich\", \"Andre Agassi\", \"Pete Sampras\", \"Pete Sampras\",\n",
    "    \"Pete Sampras\", \"Richard Krajicek\", \"Pete Sampras\", \"Pete Sampras\", \"Pete Sampras\", \"Pete Sampras\",\n",
    "    \"Goran Ivanišević\", \"Lleyton Hewitt\", \"Rodger Federer\", \"Rodger Federer\", \"Rodger Federer\", \"Rodger Federer\",\n",
    "    \"Rodger Federer\", \"Rafael Nadal\", \"Rodger Federer\", \"Rafael Nadal\", \"Novak Đoković\", \"Rodger Federer\",\n",
    "    \"Andy Murray\", \"Novak Đoković\", \"Novak Đoković\", \"Andy Murray\", \"Rodger Federer\", \"Novak Đoković\",\n",
    "    \"Novak Đoković\", \"\", \"Novak Đoković\", \"Novak Đoković\"]"
   ]
  },
  {
   "cell_type": "code",
   "execution_count": 113,
   "id": "1070a443-9e57-405b-983c-c5ecf2a43aea",
   "metadata": {},
   "outputs": [
    {
     "data": {
      "text/plain": [
       "<BarContainer object of 22 artists>"
      ]
     },
     "execution_count": 113,
     "metadata": {},
     "output_type": "execute_result"
    },
    {
     "data": {
      "image/png": "[encoded data removed]",
      "text/plain": [
       "<Figure size 432x288 with 1 Axes>"
      ]
     },
     "metadata": {
      "needs_background": "light"
     },
     "output_type": "display_data"
    }
   ],
   "source": [
    "ji=[]                               # lista jedinstvenih imena\n",
    "bpw=[]                              # lista broja pojavljivanja u ji listi\n",
    "for x in ww:                        # za svaki element liste ww\n",
    "    if x not in ji:                 # ako ime nije već u listi jedinstvenih imena\n",
    "        ji.append(x)                # dodaj ga u listu\n",
    "        broj_pobeda=ww.count(x)     # prebroj koliko se puta pojavljuje u listi ww\n",
    "        bpw.append(broj_pobeda)     # dodaj broj pobeda u listu bpw za to jedinstveno ime\n",
    "plt.barh(ji,bpw)                    # nacrtaj (horizonatlni) stubični dijagram za ji i bpw"
   ]
  },
  {
   "cell_type": "markdown",
   "id": "fdcc411e-c848-45c7-8739-d7fd312873da",
   "metadata": {},
   "source": [
    "Због прегледности дигаграма, тачније имена тенисера, овде смо нацртали хоризонтални стубични (или тракасти) дијаграм. Само смо уместо функције `.bar()` користили `.barh()`."
   ]
  },
  {
   "cell_type": "markdown",
   "id": "0f0e683b-fa74-4919-b96d-7b75d82bd462",
   "metadata": {},
   "source": [
    "Тумачење овог дијаграма можете да урадите сами. У јулу 2022. године, Федерер (још увек) има највећи број освојених Вимблдона. Ажурирајте ове податке ако се нешто значајно промени у будућности. "
   ]
  },
  {
   "cell_type": "markdown",
   "id": "53503ce0-42dc-4c21-87ad-705105f33c6b",
   "metadata": {},
   "source": [
    "Постоји још једна врста дијаграма који се често користи. __Секторски дијаграми__ (или \"питице\") површину круга деле на секторе чије су површине сразмерне вредностима у низу. Иако секторски дијаграми имају лошу прегледност због чега су могућности поређења вредности врло ограничене, ова врста дијаграма је веома популарна код презентација података. Секторске дијаграме не би требало користити када је потребно да се лако упореде вредности у низу или да се уочи тренд промене."
   ]
  },
  {
   "cell_type": "code",
   "execution_count": 111,
   "id": "6cb8b6b8-ef7e-4c00-9eae-6155f0c7e3c1",
   "metadata": {},
   "outputs": [
    {
     "data": {
      "image/png": "[encoded data removed]",
      "text/plain": [
       "<Figure size 432x288 with 1 Axes>"
      ]
     },
     "metadata": {},
     "output_type": "display_data"
    }
   ],
   "source": [
    "plt.pie(bpw,labels=ji)\n",
    "plt.grid()"
   ]
  },
  {
   "cell_type": "markdown",
   "id": "2aa39dec-307d-43af-b558-8c0d028de4b2",
   "metadata": {},
   "source": [
    "### Хистограм"
   ]
  },
  {
   "cell_type": "markdown",
   "id": "611be518-c30f-45e7-87b8-3f246a0685e9",
   "metadata": {},
   "source": [
    "__Хистограм__ је графички приказ расподеле бројачаних података у одређеном скупу. Идеја хистограма је да се распон од најмањег до највећег броја у скупу подели на интервале исте ширине, да се преброји колико бројева упада у који од тих интервала и да се, коначно, резултат тог пребројавања прикаже као стубични дијаграм по тим интервалима."
   ]
  },
  {
   "cell_type": "markdown",
   "id": "45382ed9-0922-4315-b65c-5acdba31e302",
   "metadata": {},
   "source": [
    "Иако хистограм изгледа као стубични дијаграм, постоје разлике. Док се стубични дијаграм приказује за низ бројева на _x_-оси, код хистограма се стубићи придружују интервалима. Осим тога, хистограм пре приказивања ради статистичку обраду података, односно дељење на интервале и пребројавање одговарајућих вредности."
   ]
  },
  {
   "cell_type": "markdown",
   "id": "cb1cb162-841d-43c7-8099-f55d0aad8c3c",
   "metadata": {},
   "source": [
    "Да бисмо добили неке случајне вредности бројева које треба приказати на хистограму, прво ћемо генерисати један таквих бројева помоћу функције `random()` из `random` библиотеке. Ова функција даје случајан број између 0 и 1. Ако 100 пута генеришемо случајан број на овај начин и све их ставимо у листу, добићемо низ од 100 независно добијених случајних бројева.   "
   ]
  },
  {
   "cell_type": "code",
   "execution_count": 8,
   "id": "a18b7425-dce2-42e2-96bf-4db27a41bee9",
   "metadata": {},
   "outputs": [
    {
     "name": "stdout",
     "output_type": "stream",
     "text": [
      "[0.2892938921375111, 0.20248641226680386, 0.3309940636093184, 0.4324842008887402, 0.37595924481469134, 0.7259436975407871]\n"
     ]
    }
   ],
   "source": [
    "import random                             # прво увозимо библиотеку\n",
    "rb=[random.random() for i in range(100)]  # за прављење листе користимо list comprehension\n",
    "print(rb[0:6])                            # приказујемо првих неколико бројева из листе"
   ]
  },
  {
   "cell_type": "markdown",
   "id": "fdf9f4a7-6df3-4c47-9c12-ca8d24f516c3",
   "metadata": {},
   "source": [
    "Да не бисмо штампали вредности свих сто елемената листе, боље да их прикажемо као хистограм. За то користимо функцију `hist()` која има само један аргумент: назив листе. "
   ]
  },
  {
   "cell_type": "code",
   "execution_count": 9,
   "id": "39b96d12-5ede-4c17-8899-b6009d8a3a0f",
   "metadata": {},
   "outputs": [
    {
     "data": {
      "text/plain": [
       "(array([11.,  7.,  7., 16., 17.,  9.,  6., 12.,  6.,  9.]),\n",
       " array([0.00609241, 0.10477677, 0.20346114, 0.30214551, 0.40082988,\n",
       "        0.49951425, 0.59819862, 0.69688299, 0.79556736, 0.89425173,\n",
       "        0.99293609]),\n",
       " <BarContainer object of 10 artists>)"
      ]
     },
     "execution_count": 9,
     "metadata": {},
     "output_type": "execute_result"
    },
    {
     "data": {
      "image/png": "[encoded data removed]",
      "text/plain": [
       "<Figure size 432x288 with 1 Axes>"
      ]
     },
     "metadata": {
      "needs_background": "light"
     },
     "output_type": "display_data"
    }
   ],
   "source": [
    "plt.hist(rb)"
   ]
  },
  {
   "cell_type": "markdown",
   "id": "35bc0601-1d4f-4cbd-abf6-37aba743689e",
   "metadata": {},
   "source": [
    "Добили смо хистограм. Додуше, ако хоћемо да будемо цепидлаке, он није најпрегледнији јер не знамо где су тачно границе интервала и колике су за њих вредности стубића. То можемо још мало да средимо. Прво ћемо да кажемо функцији `hist()` да не дели интервал од најмање до највеће вредности на подинтервале, него да то уради за интервал од 0 до 1. То радимо тако што функцији уз аргумент који смо већ унели, саопштимо и да су границе тог великог интервала (_range_) 0 и 1. Онда ће границе подинтервала бити тачно на 0, 0.1, 0.2, итд. Друго, нацртаћемо мрежу (_grid_) преко графика да бисмо боље видели вредности и границе интервала."
   ]
  },
  {
   "cell_type": "code",
   "execution_count": 10,
   "id": "659a9fa7-7123-4090-b1de-fc5fd311215d",
   "metadata": {},
   "outputs": [
    {
     "data": {
      "image/png": "[encoded data removed]",
      "text/plain": [
       "<Figure size 432x288 with 1 Axes>"
      ]
     },
     "metadata": {
      "needs_background": "light"
     },
     "output_type": "display_data"
    }
   ],
   "source": [
    "plt.hist(rb,range=(0,1))\n",
    "plt.grid()"
   ]
  },
  {
   "cell_type": "markdown",
   "id": "6f7082b3-4fb5-4322-9ee7-a8c5f38c2b6f",
   "metadata": {},
   "source": [
    "Сада је резулат свакако прегледнији и лакши за читање."
   ]
  }
 ],
 "metadata": {
  "kernelspec": {
   "display_name": "Python 3 (ipykernel)",
   "language": "python",
   "name": "python3"
  },
  "language_info": {
   "codemirror_mode": {
    "name": "ipython",
    "version": 3
   },
   "file_extension": ".py",
   "mimetype": "text/x-python",
   "name": "python",
   "nbconvert_exporter": "python",
   "pygments_lexer": "ipython3",
   "version": "3.10.4"
  },
  "vscode": {
   "interpreter": {
    "hash": "1e53f9a0cb753ca1ab390bc7dc4ba26e7e3a3e2e11ea0cedd936bd3da914dc0f"
   }
  }
 },
 "nbformat": 4,
 "nbformat_minor": 5
}
