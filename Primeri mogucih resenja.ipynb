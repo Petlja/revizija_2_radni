{
 "cells": [
  {
   "cell_type": "markdown",
   "id": "d642af65-3cd5-4a38-9ff2-70eacd551e52",
   "metadata": {},
   "source": [
    "# Примери могућих решења"
   ]
  },
  {
   "cell_type": "markdown",
   "id": "916d46d2-0cc6-44e0-8a86-4a741a81ed41",
   "metadata": {},
   "source": [
    "Сваки програмерски задатак можете да решите на мноштво различитих начина. Обично тражимо оне једноставније, краће, брже или оне који троше најмање меморије. Овде ћемо дати примере решења за задатке из претходних лекција која су бирана према методама које сте већ научили. То свакако нису једина добра решења. Пробајте да решите задатак и на неки други начин."
   ]
  },
  {
   "cell_type": "markdown",
   "id": "b5a5fb44-435b-4558-9206-efc2bb20b49f",
   "metadata": {},
   "source": [
    "## Увод у процесирање низова података у Пајтону"
   ]
  },
  {
   "cell_type": "markdown",
   "id": "cff1d898-9cf3-43b9-9692-96c3f96ccf08",
   "metadata": {
    "tags": []
   },
   "source": [
    "__Задатак 1__"
   ]
  },
  {
   "cell_type": "code",
   "execution_count": null,
   "id": "9f3613e3-32cb-4e64-987d-882ed3d7e116",
   "metadata": {},
   "outputs": [],
   "source": [
    "def najveci_od_tri(A0, A1, A2):\n",
    "    najveci = A0\n",
    "    if A1 > najveci: najveci = A1\n",
    "    if A2 > najveci: najveci = A2\n",
    "    return najveci"
   ]
  },
  {
   "cell_type": "markdown",
   "id": "9cc43be0-9e74-4827-a4ac-c3d3136dedaf",
   "metadata": {},
   "source": [
    "__Задатак 2__"
   ]
  },
  {
   "cell_type": "code",
   "execution_count": null,
   "id": "f02a8e82-9223-4e62-9730-dde226418da8",
   "metadata": {},
   "outputs": [],
   "source": [
    "def najveci_od_pet(A0, A1, A2, A3, A4):\n",
    "    najveci = A0\n",
    "    if A1 > najveci: najveci = A1\n",
    "    if A2 > najveci: najveci = A2\n",
    "    if A3 > najveci: najveci = A3\n",
    "    if A4 > najveci: najveci = A4\n",
    "    return najveci"
   ]
  },
  {
   "cell_type": "markdown",
   "id": "dba4d8b4-f73e-4285-a99b-8fd780f825f6",
   "metadata": {},
   "source": [
    "__Задатак 3__"
   ]
  },
  {
   "cell_type": "code",
   "execution_count": null,
   "id": "921b2f15-0a8f-4974-a9e2-75b11afcb816",
   "metadata": {},
   "outputs": [],
   "source": [
    "def max_niza(A):\n",
    "    najveci = A[0]\n",
    "    for i in range(len(A)):\n",
    "        if A[i] > najveci: najveci = A[i]\n",
    "    return najveci"
   ]
  },
  {
   "cell_type": "markdown",
   "id": "9f5569aa-afd3-4d94-b512-1195f851a35e",
   "metadata": {
    "tags": []
   },
   "source": [
    "__Задатак 4__"
   ]
  },
  {
   "cell_type": "code",
   "execution_count": null,
   "id": "d09f35a3-9bb2-43db-9afd-c8a2d906fc65",
   "metadata": {},
   "outputs": [],
   "source": [
    "def zbir_najboljih_5(Z1, Z2, Z3, Z4, Z5, Z6):\n",
    "    L=[Z1, Z2, Z3, Z4, Z5, Z6]\n",
    "    zbir5=sum(L)-min(L)\n",
    "    return zbir5"
   ]
  },
  {
   "cell_type": "markdown",
   "id": "e66adf39-7490-49c0-80b5-b788ccb2b63a",
   "metadata": {},
   "source": [
    "__Задатак 5__"
   ]
  },
  {
   "cell_type": "code",
   "execution_count": null,
   "id": "e8e37e04-c1c7-4581-8c10-bfe6ccf61106",
   "metadata": {},
   "outputs": [],
   "source": [
    "def srednji_od_tri(A0, A1, A2):\n",
    "    L=[A0, A1, A2]\n",
    "    srednji=sum(L)-max(L)-min(L)\n",
    "    return srednji"
   ]
  },
  {
   "cell_type": "markdown",
   "id": "b061449a-9e0a-4fa0-bc4f-04aaa374e22f",
   "metadata": {},
   "source": [
    "__Задатак 6__"
   ]
  },
  {
   "cell_type": "code",
   "execution_count": null,
   "id": "783ec40f-28c6-4e5b-baa6-712d8ae45d56",
   "metadata": {},
   "outputs": [],
   "source": [
    "def srednja_vrednost_bez_ekstrema(ocene):\n",
    "    zbe=sum(ocene)-min(ocene)-max(ocene)\n",
    "    svbe=zbe/(len(ocene)-2)\n",
    "    return svbe"
   ]
  },
  {
   "cell_type": "markdown",
   "id": "efb8816c-eeb8-4e0e-bdaa-040f069126a7",
   "metadata": {},
   "source": [
    "## Сортирање"
   ]
  },
  {
   "cell_type": "markdown",
   "id": "69944780-6367-46a2-b596-ddbee5f0b4af",
   "metadata": {},
   "source": [
    "__Задатак 1__"
   ]
  },
  {
   "cell_type": "code",
   "execution_count": 16,
   "id": "40111279-f264-4bf6-8e19-e9e7c74c3bc0",
   "metadata": {},
   "outputs": [],
   "source": [
    "def kti_po_velicini(L, k):\n",
    "    L.sort(reverse=True)\n",
    "    return L[k-1]"
   ]
  },
  {
   "cell_type": "markdown",
   "id": "31abf7c6-811f-454d-9b20-28418fab931c",
   "metadata": {},
   "source": [
    "__Задатак 2__"
   ]
  },
  {
   "cell_type": "code",
   "execution_count": 18,
   "id": "77650483-88c7-47ef-981d-6fb071e59ca9",
   "metadata": {},
   "outputs": [],
   "source": [
    "def permutacija_od(L, M):\n",
    "    ip=L.sort()==M.sort()\n",
    "    return ip"
   ]
  },
  {
   "cell_type": "markdown",
   "id": "54f4e068-03b0-46da-830a-f54ffc5b470e",
   "metadata": {},
   "source": [
    "__Задатак 3__"
   ]
  },
  {
   "cell_type": "code",
   "execution_count": 38,
   "id": "4b1b2fc7-877d-4172-9fa3-f68b1bb9a33f",
   "metadata": {},
   "outputs": [],
   "source": [
    "# prvo rešenje (po analigiji sa selection_sort iz lekcije)\n",
    "def selection_sort_desc(L):\n",
    "    n = len(L)\n",
    "    if n <= 1: return\n",
    "    for i in range (n-1):\n",
    "        m = i\n",
    "        for j in range(i+1,n):\n",
    "            if L[j] > L[m]:\n",
    "                m = j\n",
    "        L[i], L[m] = L[m], L[i]"
   ]
  },
  {
   "cell_type": "code",
   "execution_count": 33,
   "id": "3afb4065-b423-4205-8f4b-23e95ba39baf",
   "metadata": {},
   "outputs": [],
   "source": [
    "# drugo rešenje (iskoristimo selection_sort i obrnemo redosled)\n",
    "def selection_sort_desc(L):\n",
    "    L=selection_sort(L)\n",
    "    return L.reverse()"
   ]
  },
  {
   "cell_type": "markdown",
   "id": "804dcc7b-a1e6-49f6-82b8-1e0db3eb95c7",
   "metadata": {},
   "source": [
    "__Задатак 4__"
   ]
  },
  {
   "cell_type": "code",
   "execution_count": 70,
   "id": "fd69dcff-31ba-43eb-be2f-91134c5aa2e4",
   "metadata": {},
   "outputs": [],
   "source": [
    "# rešenje po analigiji sa bubble_sort iz lekcije\n",
    "def bubble_sort_desc(L):\n",
    "    n = len(L)\n",
    "    if n <= 1: return\n",
    "    zamena = True\n",
    "    while zamena:\n",
    "        zamena = False\n",
    "        for i in range(n-1):\n",
    "            if L[i] < L[i+1]:\n",
    "                zamena = True\n",
    "                L[i], L[i+1] = L[i+1], L[i]\n",
    "        n -= 1"
   ]
  },
  {
   "cell_type": "markdown",
   "id": "0780618d-95a9-4de1-b560-753f7019ffb9",
   "metadata": {},
   "source": [
    "__Задатак 5__"
   ]
  },
  {
   "cell_type": "code",
   "execution_count": 151,
   "id": "789eada6-0230-4766-85e9-8963c31b20ec",
   "metadata": {},
   "outputs": [],
   "source": [
    "def h_indeks(citiranost):\n",
    "    n=len(citiranost)\n",
    "    if n>1:\n",
    "        citiranost.sort(reverse=True)\n",
    "    h=0\n",
    "    while citiranost[h]>=h+1:\n",
    "        h+=1\n",
    "        if h==n:\n",
    "            return h\n",
    "    return h"
   ]
  },
  {
   "cell_type": "markdown",
   "id": "85eb6771-db65-44c8-a983-60c6cb11b073",
   "metadata": {},
   "source": [
    "__Задатак 6__"
   ]
  },
  {
   "cell_type": "markdown",
   "id": "0d1ae8a9-f200-45df-9bc8-251e095131cb",
   "metadata": {},
   "source": [
    "Решење овог задатка који табелу смешта у листу није једноставно. Боље је искористити функције за рад са табелама које постоје у библиотеци _pandas_. Овде ћемо дати примере решења на оба начина. Имајте у виду да прво решење решење не би радило кад имамо више ученика са истим презименом. За то бисмо морали да унесемо још неку линију кôда."
   ]
  },
  {
   "cell_type": "code",
   "execution_count": 210,
   "id": "96426474-bb44-4128-b3d6-de883a8a55ea",
   "metadata": {},
   "outputs": [],
   "source": [
    "# rešenje sa standardnom bibliotekom\n",
    "def po_prezimenu(razred):\n",
    "    kolona=[red[1] for red in razred]\n",
    "    kolona0=kolona.copy()  # čuvamo original kolone\n",
    "    kolona.sort()\n",
    "    sortirani_razred=[]\n",
    "    for s in kolona:\n",
    "        sortirani_razred.append(razred[kolona0.index(s)])\n",
    "    return sortirani_razred"
   ]
  },
  {
   "cell_type": "code",
   "execution_count": 211,
   "id": "2adf73b6-5f4b-4ae8-bd49-bedc9b5b9f6f",
   "metadata": {},
   "outputs": [],
   "source": [
    "# rešenje sa pandas bibliotekom\n",
    "import pandas as pd\n",
    "\n",
    "def po_prezimenu(razred):\n",
    "    df=pd.DataFrame(razred)  # listu pretvaramo u dataframe\n",
    "    sdf=df.sort_values(1)    # sortiramo po koloni sa indeksom 1\n",
    "    return sdf"
   ]
  },
  {
   "cell_type": "markdown",
   "id": "2aee70e8-c81a-4db6-b5c4-359f0471af48",
   "metadata": {},
   "source": [
    "__Задатак 7__"
   ]
  },
  {
   "cell_type": "markdown",
   "id": "63ff4163-133d-4f74-8e92-37dd2c2cd383",
   "metadata": {},
   "source": [
    "Слично као у претходном задатку, решавање овог задатка само са листама није једноставно. Зато смо дали пример и са коришћењем _pandas_ библиотеке. "
   ]
  },
  {
   "cell_type": "code",
   "execution_count": 254,
   "id": "6ac9d9d1-8c3d-4aa0-8b97-e96f8028fd5b",
   "metadata": {},
   "outputs": [],
   "source": [
    "# rešenje sa listama\n",
    "def rang_lista(T):\n",
    "    for red in T:\n",
    "        red.append(sum(red[1:]))\n",
    "    kolona=[red[-1] for red in T] # uzimamo poslednju kolonu za sortiranje\n",
    "    kolona0=kolona.copy()\n",
    "    kolona.sort(reverse=True)\n",
    "    rl=[]\n",
    "    for s in kolona:\n",
    "        rl.append(T[kolona0.index(s)])\n",
    "    return rl"
   ]
  },
  {
   "cell_type": "code",
   "execution_count": 255,
   "id": "fe2d2c12-2a75-44ee-bb1b-34f554743f19",
   "metadata": {},
   "outputs": [],
   "source": [
    "# rešenje sa bibliotekom pandas\n",
    "import pandas as pd\n",
    "\n",
    "def rang_lista(T):\n",
    "    df=pd.DataFrame(T)\n",
    "    df['sum']=df.iloc[:,1:].sum(axis=1)\n",
    "    sdf=df.sort_values('sum',ascending=False)\n",
    "    return sdf"
   ]
  },
  {
   "cell_type": "markdown",
   "id": "d78fb847-3bfa-4032-81f0-8ec34f03c5bd",
   "metadata": {},
   "source": [
    "__Задатак 8__"
   ]
  },
  {
   "cell_type": "markdown",
   "id": "bb9e5250-8324-4ea8-9740-00cc247081f7",
   "metadata": {},
   "source": [
    "За овај задатак дајемо два решења. У првом користимо само листе, док у другом користимо и колекцију типа скуп. Скупови имају својство да су сви елементи јединствени. Код њих нема понављања. Ако листу претворимо у скуп, Пајтон ће избрисати све елементе који су дупликати."
   ]
  },
  {
   "cell_type": "code",
   "execution_count": 271,
   "id": "756c493d-522a-4b91-b118-784e13611e4f",
   "metadata": {},
   "outputs": [],
   "source": [
    "# prvo rešenje: koristimo samo liste\n",
    "def svi_razliciti(L):\n",
    "    n=len(L)\n",
    "    for i in range(n):\n",
    "        if L[i] in L[i+1:]:\n",
    "            return False\n",
    "    return True"
   ]
  },
  {
   "cell_type": "code",
   "execution_count": 272,
   "id": "a3707505-f39b-4fc7-8716-95c3e3ac4322",
   "metadata": {},
   "outputs": [],
   "source": [
    "# drugo rešenje: koristimo i skup\n",
    "def svi_razliciti(L):\n",
    "    if len(L)==len(set(L)):\n",
    "        return True\n",
    "    else:\n",
    "        return False"
   ]
  },
  {
   "cell_type": "markdown",
   "id": "1ac7dbe7-1034-495e-824d-6f0f3223ed41",
   "metadata": {},
   "source": [
    "## Филтрирање и претраживање"
   ]
  },
  {
   "cell_type": "markdown",
   "id": "6c0532e3-68e8-43d0-8060-00262a8cd029",
   "metadata": {},
   "source": [
    "__Задатак 1__"
   ]
  },
  {
   "cell_type": "code",
   "execution_count": 358,
   "id": "7e37015e-574c-495d-8bd7-492fa19e73e5",
   "metadata": {},
   "outputs": [
    {
     "name": "stdout",
     "output_type": "stream",
     "text": [
      "['Туна', 'Ослић', 'Пастрмка', 'Лосос', 'Сардине', 'Харинга', 'Бакалар', 'Сом', 'Шаран', 'Орада', 'Хоботница', 'Јастог']\n"
     ]
    }
   ],
   "source": [
    "morski_plodovi = [\n",
    "   [\"Туна\", 116, 0, 26, 1],\n",
    "   [\"Ослић\", 88, 0, 17.2, 0.8],\n",
    "   [\"Пастрмка\", 119, 0, 18, 5],\n",
    "   [\"Лосос\", 116, 0, 20, 3.5],\n",
    "   [\"Скуша\", 205, 0, 19, 14],\n",
    "   [\"Сардине\", 135, 0, 18, 5],\n",
    "   [\"Харинга\", 158, 0, 18, 9],\n",
    "   [\"Бакалар\", 82, 0, 18, 0.7],\n",
    "   [\"Сом\", 95, 0, 16.4, 2.8],\n",
    "   [\"Шаран\", 127, 0, 17.6, 5.6],\n",
    "   [\"Орада\", 115, 0, 16.5, 5.5],\n",
    "   [\"Јегуља\", 184, 0, 18.4, 11.7],\n",
    "   [\"Шкампи\", 106, 1, 20, 2],\n",
    "   [\"Дагње\", 86, 4, 12, 2],\n",
    "   [\"Козице\", 71, 1, 13, 1],\n",
    "   [\"Лигње\", 92, 3, 15.6, 1.3],\n",
    "   [\"Хоботница\", 81, 0, 16.4, 0.9],\n",
    "   [\"Јастог\", 112, 0, 20, 1.5]]\n",
    "\n",
    "print([red[0] for red in morski_plodovi if red[2] == 0 and red[4] < 10])"
   ]
  },
  {
   "cell_type": "markdown",
   "id": "399766cb-eee0-47e7-95fb-aec39ccfc34c",
   "metadata": {},
   "source": [
    "__Задатак 2__"
   ]
  },
  {
   "cell_type": "code",
   "execution_count": 359,
   "id": "a3894ecc-d3b1-4cf9-9418-984589c10c8e",
   "metadata": {},
   "outputs": [
    {
     "name": "stdout",
     "output_type": "stream",
     "text": [
      "[['Вуковић Вук', 0, 3.91, 4.1], ['Ивановић Иван', 3.91, 3.26, 0], ['Марковић Марко', 3.39, 0, 3.26]]\n"
     ]
    }
   ],
   "source": [
    "takmicari = [[\"Алексић Алекса\", 4.25, 4.31, 4.22],\n",
    "             [\"Бранковић Бранко\", 3.89, 4.02, 4.05],\n",
    "             [\"Вуковић Вук\", 0, 3.91, 4.1],\n",
    "             [\"Гавриловић Гаврило\", 3.78, 3.26, 3.11],\n",
    "             [\"Дејановић Дејан\", 4.56, 4.31, 4.27],\n",
    "             [\"Ђорђевић Ђорђе\", 4.63, 4.6, 4.52],\n",
    "             [\"Жарковић Жарко\", 3.47, 3.51, 3.58],\n",
    "             [\"Зорић Зоран\", 4.12, 4.15, 4.09],\n",
    "             [\"Ивановић Иван\", 3.91, 3.26, 0],\n",
    "             [\"Јовановић Јован\", 4.01, 4.1, 4.12],\n",
    "             [\"Костић Коста\", 3.51, 3.72, 3.41],\n",
    "             [\"Лукић Лука\", 2.15, 2.17, 2.18],\n",
    "             [\"Марковић Марко\", 3.39, 0, 3.26],\n",
    "             [\"Ненадовић Ненад\", 4.25, 4.18, 4.22],\n",
    "             [\"Огњановић Огњен\", 4.31, 4.26, 4.12],\n",
    "             [\"Петровић Петар\", 4.23, 4.34, 4.34],\n",
    "             [\"Ракић Рака\", 3.51, 3.54, 3.62],\n",
    "             [\"Станојевић Станоје\", 4.57, 4.59, 4.63]]\n",
    "\n",
    "print([red for red in takmicari if 0 in red])"
   ]
  },
  {
   "cell_type": "markdown",
   "id": "ae51a8d8-b015-4635-bac6-0c3cfb454588",
   "metadata": {},
   "source": [
    "__Задатак 3__"
   ]
  },
  {
   "cell_type": "code",
   "execution_count": 360,
   "id": "d6b3151e-30d9-40e8-9030-ad122342d274",
   "metadata": {},
   "outputs": [
    {
     "name": "stdout",
     "output_type": "stream",
     "text": [
      "[['Петровић', 'Петар', '0308003800019', 'м', 8, 4.52], ['Јаснић', 'Јасна', '1210003805026', 'ж', 8, 5.0], ['Ненадовић', 'Ненад', '2109003800046', 'м', 8, 3.58], ['Ненадовић', 'Јасна', '2109003805021', 'ж', 8, 4.21]]\n",
      "[['Аничић', 'Аница', '1105004805019', 'ж', 7, 4.11], ['Ненадовић', 'Ненад', '2109003800046', 'м', 8, 3.58], ['Ненадовић', 'Јасна', '2109003805021', 'ж', 8, 4.21]]\n",
      "[['Ђорђевић', 'Ђорђе', '1504005700012', 'м', 6, 3.12], ['Милошев', 'Милош', '1506004400056', 'м', 7, 2.51], ['Милошев', 'Петар', '1506004400057', 'м', 7, 2.48], ['Ненадовић', 'Ненад', '2109003800046', 'м', 8, 3.58]]\n"
     ]
    }
   ],
   "source": [
    "podaci = [\n",
    "    [\"Петровић\",  \"Петар\", \"0308003800019\", \"м\", 8, 4.52],\n",
    "    [\"Јаснић\",    \"Јасна\", \"1210003805026\", \"ж\", 8, 5.00],\n",
    "    [\"Аничић\",    \"Аница\", \"1105004805019\", \"ж\", 7, 4.11],\n",
    "    [\"Веснић\",    \"Весна\", \"2901005705011\", \"ж\", 6, 5.00],\n",
    "    [\"Ђорђевић\",  \"Ђорђе\", \"1504005700012\", \"м\", 6, 3.12],\n",
    "    [\"Милошев\",   \"Милош\", \"1506004400056\", \"м\", 7, 2.51],\n",
    "    [\"Милошев\",   \"Петар\", \"1506004400057\", \"м\", 7, 2.48],\n",
    "    [\"Ненадовић\", \"Ненад\", \"2109003800046\", \"м\", 8, 3.58],\n",
    "    [\"Ненадовић\", \"Јасна\", \"2109003805021\", \"ж\", 8, 4.21]]\n",
    "\n",
    "# Направи нову табелу коју чине само ученици осмог разреда.\n",
    "print([red for red in podaci if red[4] == 8])\n",
    "\n",
    "# Направи нову табелу коју чине само врло добри ученици.\n",
    "print([red for red in podaci if 3.50 <= red[5] < 4.50])\n",
    "\n",
    "# Направи нову табелу коју чине само дечаци који нису одлични.\n",
    "print([red for red in podaci if red[3] == \"м\" and red[5] < 4.50])"
   ]
  },
  {
   "cell_type": "markdown",
   "id": "588619d4-1ccf-4023-b34b-1ff1cc8c535f",
   "metadata": {},
   "source": [
    "__Задатак 4__"
   ]
  },
  {
   "cell_type": "code",
   "execution_count": null,
   "id": "7ef5095b-546a-41da-a062-945678218029",
   "metadata": {},
   "outputs": [],
   "source": [
    "def nadji_sve(x, L):\n",
    "    return [i for i in range(len(L)) if L[i] == x]"
   ]
  },
  {
   "cell_type": "markdown",
   "id": "41455525-13ce-479b-945d-4e2f6142af3f",
   "metadata": {},
   "source": [
    "__Задатак 5__"
   ]
  },
  {
   "cell_type": "code",
   "execution_count": null,
   "id": "4ddef407-e135-4ae5-a287-de6095cf6e22",
   "metadata": {},
   "outputs": [],
   "source": [
    "def presek(L, M):\n",
    "    return [i for i in L if i in M]"
   ]
  },
  {
   "cell_type": "markdown",
   "id": "e5574396-3e36-494a-b78c-75ffd53208ef",
   "metadata": {},
   "source": [
    "__Задатак 6__"
   ]
  },
  {
   "cell_type": "code",
   "execution_count": null,
   "id": "0d50bf3e-4682-48a0-b96b-9040032ca903",
   "metadata": {},
   "outputs": [],
   "source": [
    "def razlika(L, M):\n",
    "    return [i for i in L if i not in M]"
   ]
  },
  {
   "cell_type": "markdown",
   "id": "06ea41a2-9654-4db1-91e6-6052bf18502a",
   "metadata": {
    "tags": []
   },
   "source": [
    "__Задатак 7__"
   ]
  },
  {
   "cell_type": "code",
   "execution_count": null,
   "id": "355b1171-03cd-4e6a-bc9e-d29a450c74d7",
   "metadata": {},
   "outputs": [],
   "source": []
  },
  {
   "cell_type": "markdown",
   "id": "f760f363-04f0-4655-95aa-13750635dc21",
   "metadata": {},
   "source": [
    "__Задатак 8__"
   ]
  },
  {
   "cell_type": "code",
   "execution_count": null,
   "id": "a03ae642-abb5-44e9-baf5-0dd0a7088058",
   "metadata": {},
   "outputs": [],
   "source": []
  },
  {
   "cell_type": "markdown",
   "id": "35e2f8f5-8c87-4aa1-a913-843a609356cf",
   "metadata": {},
   "source": [
    "__Задатак 9__"
   ]
  },
  {
   "cell_type": "code",
   "execution_count": null,
   "id": "3e816e2e-8552-4b21-a5fd-d0ba7aca172d",
   "metadata": {},
   "outputs": [],
   "source": []
  },
  {
   "cell_type": "markdown",
   "id": "ba5270a9-664f-46ee-8fbe-d94e7c4a03cc",
   "metadata": {},
   "source": [
    "## Представљање низова података"
   ]
  },
  {
   "cell_type": "markdown",
   "id": "6506377a-3039-45e8-b29d-79bee9d591f5",
   "metadata": {},
   "source": [
    "__Задатак 1__"
   ]
  },
  {
   "cell_type": "code",
   "execution_count": 278,
   "id": "73ece19d-0322-4c2a-bb4c-563f00c22dca",
   "metadata": {},
   "outputs": [
    {
     "name": "stdout",
     "output_type": "stream",
     "text": [
      "ABCDEFGHIJKLMNOPQRSTUVWXYZ\n"
     ]
    }
   ],
   "source": []
  },
  {
   "cell_type": "markdown",
   "id": "833e8843-6402-44cc-a3d7-f8d14725e5a1",
   "metadata": {},
   "source": [
    "__Задатак 2__"
   ]
  },
  {
   "cell_type": "code",
   "execution_count": 280,
   "id": "a2e58df4-d858-412b-9f0b-36012aea5e56",
   "metadata": {},
   "outputs": [],
   "source": []
  },
  {
   "cell_type": "markdown",
   "id": "80b74b1b-d45c-4a09-95a9-21456cf0ba4b",
   "metadata": {},
   "source": [
    "__Задатак 3__"
   ]
  },
  {
   "cell_type": "code",
   "execution_count": 281,
   "id": "f0abe846-193a-4420-932f-96e62d3e91fa",
   "metadata": {},
   "outputs": [],
   "source": []
  },
  {
   "cell_type": "markdown",
   "id": "a061bd55-e1ae-49e7-9880-2c9a6f93f426",
   "metadata": {},
   "source": [
    "## Рад са текстуалним подацима"
   ]
  },
  {
   "cell_type": "markdown",
   "id": "b6db93c8-a80d-414d-96ff-9565e6cb8df4",
   "metadata": {},
   "source": [
    "__Задатак 1__"
   ]
  },
  {
   "cell_type": "code",
   "execution_count": 278,
   "id": "9ac2c54d-c7f5-4c15-9e3c-83b4796273d4",
   "metadata": {},
   "outputs": [
    {
     "name": "stdout",
     "output_type": "stream",
     "text": [
      "ABCDEFGHIJKLMNOPQRSTUVWXYZ\n"
     ]
    }
   ],
   "source": [
    "az=\"\"\n",
    "for i in range(65,65+26):\n",
    "    az=az+chr(i)\n",
    "print(az)"
   ]
  },
  {
   "cell_type": "markdown",
   "id": "e9ea9882-ed40-411f-a36f-e9a216de8636",
   "metadata": {},
   "source": [
    "__Задатак 2__"
   ]
  },
  {
   "cell_type": "code",
   "execution_count": 280,
   "id": "4d6641e1-2be4-4e14-8703-ee762889bc39",
   "metadata": {},
   "outputs": [],
   "source": [
    "def broj_karaktera(L):\n",
    "    n=0\n",
    "    for x in L:\n",
    "        n+=1\n",
    "    return n"
   ]
  },
  {
   "cell_type": "markdown",
   "id": "1358e443-4769-4148-9d64-1ca51e991e98",
   "metadata": {},
   "source": [
    "__Задатак 3__"
   ]
  },
  {
   "cell_type": "code",
   "execution_count": 281,
   "id": "a41422b2-6bf6-45c3-a25a-184021557cb6",
   "metadata": {},
   "outputs": [],
   "source": [
    "def bzi(L):\n",
    "    n=0\n",
    "    for x in L:\n",
    "        if x in \".,:;?!-\":\n",
    "            n+=1\n",
    "    return n"
   ]
  },
  {
   "cell_type": "markdown",
   "id": "c17870e0-042e-4e93-b1ca-068cac84dd99",
   "metadata": {},
   "source": [
    "__Задатак 4__"
   ]
  },
  {
   "cell_type": "code",
   "execution_count": 282,
   "id": "56c255b7-0517-40df-8567-3a7a65510af4",
   "metadata": {},
   "outputs": [
    {
     "name": "stdout",
     "output_type": "stream",
     "text": [
      "18\n",
      "23\n",
      "38\n"
     ]
    }
   ],
   "source": [
    "S=\"String je lista karaktera: slova, cifara i ostalih znakova.\"\n",
    "i=0\n",
    "s=\"ra\"\n",
    "while s in S[i:]:\n",
    "    i=S.index(s,i)\n",
    "    print(i)\n",
    "    i+=1"
   ]
  },
  {
   "cell_type": "markdown",
   "id": "840be8f1-a8e4-4467-af60-b2a8938f5431",
   "metadata": {},
   "source": [
    "__Задатак 5__"
   ]
  },
  {
   "cell_type": "code",
   "execution_count": 295,
   "id": "c19d07d0-f7d7-40d1-b520-b68c7716899d",
   "metadata": {},
   "outputs": [],
   "source": [
    "def jeste_anagram(a,b):    \n",
    "    a_sms=a.replace(\" \",\"\").lower()\n",
    "    b_sms=b.replace(\" \",\"\").lower()\n",
    "    al=list(a_sms)\n",
    "    bl=list(b_sms)\n",
    "    al.sort()\n",
    "    bl.sort()\n",
    "    return al==bl"
   ]
  },
  {
   "cell_type": "code",
   "execution_count": null,
   "id": "1e7ddda5-3e63-4bc0-8493-078eba988198",
   "metadata": {},
   "outputs": [],
   "source": []
  },
  {
   "cell_type": "markdown",
   "id": "fc8bc34c-482c-4748-9db9-db3a6431f1ea",
   "metadata": {},
   "source": [
    "## Рад са табелама"
   ]
  },
  {
   "cell_type": "markdown",
   "id": "5064bf8d-7073-4bbf-aee6-9f1ef9551a83",
   "metadata": {},
   "source": [
    "__Задатак 1__"
   ]
  },
  {
   "cell_type": "code",
   "execution_count": 278,
   "id": "29035deb-6466-4338-8838-6a65762a525d",
   "metadata": {},
   "outputs": [
    {
     "name": "stdout",
     "output_type": "stream",
     "text": [
      "ABCDEFGHIJKLMNOPQRSTUVWXYZ\n"
     ]
    }
   ],
   "source": []
  },
  {
   "cell_type": "markdown",
   "id": "362525ad-46ad-4505-ad00-7ca9bcf85a47",
   "metadata": {},
   "source": [
    "__Задатак 2__"
   ]
  },
  {
   "cell_type": "code",
   "execution_count": 280,
   "id": "8131aa6e-7892-47dc-b736-40eb2ee44f8b",
   "metadata": {},
   "outputs": [],
   "source": []
  },
  {
   "cell_type": "markdown",
   "id": "d8bccf3f-7008-4f74-a65c-81682228fe62",
   "metadata": {},
   "source": [
    "__Задатак 3__"
   ]
  },
  {
   "cell_type": "code",
   "execution_count": 281,
   "id": "a4028bc9-2e3d-4e0f-bd86-81c3c8607870",
   "metadata": {},
   "outputs": [],
   "source": []
  },
  {
   "cell_type": "markdown",
   "id": "6660f570-5505-42c3-a405-a194cab7a87d",
   "metadata": {},
   "source": [
    "## Обрада и приказ табеларних података"
   ]
  },
  {
   "cell_type": "markdown",
   "id": "efbdc1eb-7a0e-4f36-bd41-04a741140fe0",
   "metadata": {},
   "source": [
    "__Задатак 1__"
   ]
  },
  {
   "cell_type": "code",
   "execution_count": 278,
   "id": "4b2b9cbb-eaa5-4f88-851e-eb70c9173e25",
   "metadata": {},
   "outputs": [
    {
     "name": "stdout",
     "output_type": "stream",
     "text": [
      "ABCDEFGHIJKLMNOPQRSTUVWXYZ\n"
     ]
    }
   ],
   "source": [
    "bspk=dt.groupby('Continent')\n",
    "bspk['Density'].median()"
   ]
  },
  {
   "cell_type": "markdown",
   "id": "14b21fd7-c03e-403b-9c19-27a05a75ff3c",
   "metadata": {},
   "source": [
    "__Задатак 2__"
   ]
  },
  {
   "cell_type": "code",
   "execution_count": 280,
   "id": "673ded50-fdb5-4516-ac23-e53d4ab7510b",
   "metadata": {},
   "outputs": [],
   "source": []
  },
  {
   "cell_type": "markdown",
   "id": "d23acff0-96d3-4b08-b4c0-704ef688aea7",
   "metadata": {},
   "source": [
    "__Задатак 3__"
   ]
  },
  {
   "cell_type": "code",
   "execution_count": 281,
   "id": "8993676e-fb29-4024-8f08-bbb9fe17b84d",
   "metadata": {},
   "outputs": [],
   "source": []
  },
  {
   "cell_type": "markdown",
   "id": "8ac51b40-86f1-41cd-87dd-de21c9c18707",
   "metadata": {},
   "source": [
    "## Џупитер и Ексел"
   ]
  },
  {
   "cell_type": "markdown",
   "id": "46fef453-8c58-4929-b9c1-ceca734796f6",
   "metadata": {},
   "source": [
    "__Задатак 1__"
   ]
  },
  {
   "cell_type": "code",
   "execution_count": 278,
   "id": "62a4b4f9-d8ab-4306-a2f1-5fe17efcc034",
   "metadata": {},
   "outputs": [
    {
     "name": "stdout",
     "output_type": "stream",
     "text": [
      "ABCDEFGHIJKLMNOPQRSTUVWXYZ\n"
     ]
    }
   ],
   "source": []
  },
  {
   "cell_type": "markdown",
   "id": "cfab6172-2146-4967-88eb-af79f54b84da",
   "metadata": {},
   "source": [
    "__Задатак 2__"
   ]
  },
  {
   "cell_type": "code",
   "execution_count": 280,
   "id": "0c71dea2-e15b-465d-944b-c64695aa3510",
   "metadata": {},
   "outputs": [],
   "source": []
  },
  {
   "cell_type": "markdown",
   "id": "3261f37b-4fef-4dcc-87c9-ebc429a57342",
   "metadata": {},
   "source": [
    "__Задатак 3__"
   ]
  },
  {
   "cell_type": "code",
   "execution_count": 281,
   "id": "6a42db94-7871-412a-9a2b-0f2a0b029eb8",
   "metadata": {},
   "outputs": [],
   "source": []
  }
 ],
 "metadata": {
  "kernelspec": {
   "display_name": "Python 3 (ipykernel)",
   "language": "python",
   "name": "python3"
  },
  "language_info": {
   "codemirror_mode": {
    "name": "ipython",
    "version": 3
   },
   "file_extension": ".py",
   "mimetype": "text/x-python",
   "name": "python",
   "nbconvert_exporter": "python",
   "pygments_lexer": "ipython3",
   "version": "3.10.4"
  },
  "vscode": {
   "interpreter": {
    "hash": "1e53f9a0cb753ca1ab390bc7dc4ba26e7e3a3e2e11ea0cedd936bd3da914dc0f"
   }
  }
 },
 "nbformat": 4,
 "nbformat_minor": 5
}
