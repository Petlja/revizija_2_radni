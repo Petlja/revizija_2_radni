{
 "cells": [
  {
   "cell_type": "markdown",
   "id": "7ea07c0a-f589-41eb-910c-fe42895f9acc",
   "metadata": {},
   "source": [
    "# Програмирање у Пајтону - Текстуални подаци"
   ]
  },
  {
   "cell_type": "markdown",
   "id": "e925f8b2-6955-4905-8da3-3f3a45e31057",
   "metadata": {},
   "source": [
    "Постоје два основна формата рачунарских фајлова: текстуални и бинарни. Текстуалне можемо да читамо и ми људи. Бинарни су резервисани за машине. Фајлови са екстензијом .txt, .py, .csv или .srt (титл за филмове обично има ову екстензију) су текстуални. Њих можемо да отворимо у било коме едитору (нпр. _Notepad_) и да видимо текст, знакове интерпункције, децималне бројеве, размаке итд. Бинарне фајлове (нпр. .zip, .docx или .pdf) не можемо да отворимо у едиторима за текст. Чак и кад бисмо успели на неки начин, видели бисмо бесмислени низ чудних знакова попут `©ãGnû–¼5º¼Z6ÖÅ_¹.]p®\\5«†` који не бисмо знали да растумачимо."
   ]
  },
  {
   "cell_type": "markdown",
   "id": "4ee6daae-3062-4590-871c-da006ff5e3e8",
   "metadata": {},
   "source": [
    "Текстуални начин записивања података је веома практичан за памћење и преношење података. Због тога се нпр. изворни кôд рачунарских програма и табеларни подаци чувају као текст. Основни елемент ових записа је __карактер__. То је једно слово, цифра, знак интерпункције или можда неки контролни знак (нпр. знак за крај реда). Текст није ништа друго до низ карактера. Тип података у Пајтону у који можемо да ставимо текст је стринг (или ниска карактера)."
   ]
  },
  {
   "cell_type": "markdown",
   "id": "3e0ca68b-bc7f-4348-9989-3db3d9c13def",
   "metadata": {},
   "source": [
    "## Конверзија карактера у бајтове и обрнуто"
   ]
  },
  {
   "cell_type": "markdown",
   "id": "2eca278a-44e0-4760-9845-4d460d2e75a6",
   "metadata": {},
   "source": [
    "Рачунар у својој меморији чува само нуле и јединице организоване у бајтове. Без обзира што ми кажемо да су у некој променљивој карактери, рачунар тим карактерима придружује број и онда тај број памти. Сваки карактер има свој број. Ако је карактер из ASCII скупа од 256 знакова, довољан је један бајт за чување. Уколико су то ћирилични знаци или знаци са дијакритицима (нпр. _ž_ или _ć_), за чување ће бити потребно два бајта. Функција `ord()` нам даје број који је придружен знаку који навидимо као аргумент. У супротном смеру, функција `chr()` нам за број у аргументу враћа одговарајући карактер."
   ]
  },
  {
   "cell_type": "code",
   "execution_count": 1,
   "id": "ec4ece68-a55b-4109-98ff-4da5332699e7",
   "metadata": {},
   "outputs": [
    {
     "data": {
      "text/plain": [
       "97"
      ]
     },
     "execution_count": 1,
     "metadata": {},
     "output_type": "execute_result"
    }
   ],
   "source": [
    "ord(\"a\")"
   ]
  },
  {
   "cell_type": "code",
   "execution_count": 2,
   "id": "8a63d3d0-d908-40fe-934f-5fb4e3e5e46c",
   "metadata": {},
   "outputs": [
    {
     "data": {
      "text/plain": [
       "'a'"
      ]
     },
     "execution_count": 2,
     "metadata": {},
     "output_type": "execute_result"
    }
   ],
   "source": [
    "chr(97)"
   ]
  },
  {
   "cell_type": "markdown",
   "id": "41d40f33-86b7-4b9e-87b6-f312c5f3aeac",
   "metadata": {},
   "source": [
    "Пробајте функцију `ord()` за различита ћирилична и латинична слова. Да ли је број који добијате мањи или већи од 255? Ако је мањи или једнак, за меморисање ће користити само један бајт."
   ]
  },
  {
   "cell_type": "markdown",
   "id": "372f884e-8c4d-4c53-884e-00893b11f395",
   "metadata": {},
   "source": [
    "За сваки број од 0 до 255 постоји одговарајући карактер. Неки од њих су контролни па не можемо лепо да их прикажемо. Почевши од броја 32 који одговара знаку \" \" то су \"нормални\" карактери које можемо да испишемо."
   ]
  },
  {
   "cell_type": "code",
   "execution_count": 3,
   "id": "140c1e3e-1832-4315-bf66-2ee61a0599d4",
   "metadata": {},
   "outputs": [
    {
     "name": "stdout",
     "output_type": "stream",
     "text": [
      " !\"#$%&'()*+,-./0123456789:;<=>?@ABCDEFGHIJKLMNOPQRSTUVWXYZ[\\]^_`abcdefghijklmnopqrstuvwxyz{|}~",
      "\n",
      " ¡¢£¤¥¦§¨©ª«¬­®¯°±²³´µ¶·¸¹º»¼½¾¿ÀÁÂÃÄÅÆÇÈÉÊËÌÍÎÏÐÑÒÓÔÕÖ×ØÙÚÛÜÝÞßàáâãäåæçèéêëìíîïðñòóôõö÷øùúûüýþÿ"
     ]
    }
   ],
   "source": [
    "for i in range(32,256):\n",
    "    print(chr(i), end=\"\")"
   ]
  },
  {
   "cell_type": "markdown",
   "id": "86c74472-b18c-4765-9d80-d67ccc7ebeeb",
   "metadata": {},
   "source": [
    "__Задатак 1__: Напишите програм који генерише стринг са свим великим словима енглеског алфабета (ABCD...WXYZ) не укуцавајући ручно свако слово. "
   ]
  },
  {
   "cell_type": "markdown",
   "id": "4bd683fe-97d5-4338-8503-e7bd9ec63098",
   "metadata": {},
   "source": [
    "## Стринг као листа карактера"
   ]
  },
  {
   "cell_type": "markdown",
   "id": "ad719ffe-0f9f-4c51-98f8-9e141548a64c",
   "metadata": {},
   "source": [
    "Стрингови се чувају као низови карактера. Пошто се у Пајтону низови стандардно представљају листама, онда стринг овде представља листу карактера. Начин на који приступамо карактерима у стрингу је исти као што приступамо елементима у листи: помоћу индекса и слајсова."
   ]
  },
  {
   "cell_type": "code",
   "execution_count": 4,
   "id": "c11f083b-9241-458c-9dd5-1228749c4374",
   "metadata": {},
   "outputs": [
    {
     "name": "stdout",
     "output_type": "stream",
     "text": [
      "t\n",
      "ing\n",
      ".\n"
     ]
    }
   ],
   "source": [
    "S=\"String je lista karaktera: slova, cifara i ostalih znakova.\"\n",
    "print(S[1])     # karakter sa indeksom 1\n",
    "print(S[3:6])   # slajs karaktera sa indeksima od 3 do 5\n",
    "print(S[-1])    # poslednji karakter u stringu"
   ]
  },
  {
   "cell_type": "markdown",
   "id": "a784e5bf-6209-41d7-9cd9-23c6c7508aa8",
   "metadata": {},
   "source": [
    "### Оператор `in`"
   ]
  },
  {
   "cell_type": "markdown",
   "id": "fbff23de-32f2-47ea-b520-bd664954a59c",
   "metadata": {},
   "source": [
    "Када проверавамо да ли се одређени карактер или стринг (s) налазе у неком већем стрингу (S) користимо оператор `in`. Резултат операције је булеан који има вредност тачно ако се s садржи у S, односно нетачно ако тај услов није испуњен. Слично, можемо да проверимо и да ли се s не садржи у S са `not in`."
   ]
  },
  {
   "cell_type": "code",
   "execution_count": 5,
   "id": "effdcff8-f7ec-40d2-8ebd-c2d29a28c65c",
   "metadata": {},
   "outputs": [
    {
     "name": "stdout",
     "output_type": "stream",
     "text": [
      "True\n",
      "False\n",
      "True\n"
     ]
    }
   ],
   "source": [
    "print(\"ta\" in S)     # string \"ta\" se pojavljuje u stringu S\n",
    "print(\";\" in S)      # znak \";\" se ne pojavljuje u S\n",
    "print(\"R\" not in S)  # tačno je da se \"R\" ne pojavljuje u S"
   ]
  },
  {
   "cell_type": "markdown",
   "id": "7ded316d-586e-4010-8f48-8b8e7f23032f",
   "metadata": {},
   "source": [
    "### Функције за рад са стринговима"
   ]
  },
  {
   "cell_type": "markdown",
   "id": "33f015c3-76fc-4fd4-834c-f0a85e2fbb7e",
   "metadata": {},
   "source": [
    "Функције које имамо за рад са листама углавном постоје и за стрингове. У следећој ћелији су примери две функције: прва враћа дужину стринга S, док друга враћа број колико пута се карактер \"а\" појављује у стрингу S."
   ]
  },
  {
   "cell_type": "code",
   "execution_count": 6,
   "id": "877963b8-c3ac-4e4b-8bcd-55823f1aab6e",
   "metadata": {},
   "outputs": [
    {
     "name": "stdout",
     "output_type": "stream",
     "text": [
      "59\n",
      "10\n"
     ]
    }
   ],
   "source": [
    "print(len(S))\n",
    "print(S.count(\"a\"))"
   ]
  },
  {
   "cell_type": "markdown",
   "id": "6b0f4c08-4369-45f0-b561-fce5e44913ee",
   "metadata": {},
   "source": [
    "__Задатак 2__: Напишите функцију која враћа број карактера у стрингу не користећи функцију `len()`."
   ]
  },
  {
   "cell_type": "markdown",
   "id": "181c9ada-ddcd-4390-924e-ce797921ac76",
   "metadata": {},
   "source": [
    "__Задатак 3__: Напишите функцију која враћа број знакова интерпункције. "
   ]
  },
  {
   "cell_type": "markdown",
   "id": "7d7cbbba-fe7f-48cf-9a54-643da7442f11",
   "metadata": {},
   "source": [
    "Функција за рад са стринговима има више десетина. Овде их нећемо све помињати. Извршите `dir(str)` да видите које све постоје."
   ]
  },
  {
   "cell_type": "markdown",
   "id": "260f2448-5282-4bba-bc83-34c769ced101",
   "metadata": {
    "tags": []
   },
   "source": [
    "### Функција `.index()`"
   ]
  },
  {
   "cell_type": "markdown",
   "id": "9e5fe9ca-6c09-41c9-8af6-58cc0149ea60",
   "metadata": {},
   "source": [
    "Уколико се \"мали\" стринг (s) налази у \"великом\" (S), функција `.index()` може да дам каже којим индексом великог стринга почиње мали. Синтакса ове функције је `S.index(s,start,end)`. Приметите да функцију примењујемо на велики стринг, а да мали стављамо као њен аргумент. Уколико унесемо само један аргумент. што је овде дозвољено, функција `.index()` ће стринг s тражити почевши од индекса 0, тј. од почетка великог стринга и вратиће нам само индекс где се стринг s први пут појављује. Уколико унесемо и други аргумент функције (_start_ - индекс од ког почиње претрагу), можемо да нађемо и каснија појављивања. Уколико желимо можемо да ставимо и индекс (_end_) за крај претраге као трећи аргумент. "
   ]
  },
  {
   "cell_type": "code",
   "execution_count": 7,
   "id": "29635fda-b30a-4f58-84bd-de8c56564640",
   "metadata": {},
   "outputs": [
    {
     "name": "stdout",
     "output_type": "stream",
     "text": [
      "13\n",
      "45\n"
     ]
    }
   ],
   "source": [
    "i=S.index(\"ta\")           # gde se string \"ta\" prvi put pojavljuje u stringu S\n",
    "print(i)\n",
    "print(S.index(\"ta\",i+1))  # gde se \"ta\" pojavljuje prvi put posle toga"
   ]
  },
  {
   "cell_type": "markdown",
   "id": "d9d82dfc-5e8b-4bde-b679-a318948b7def",
   "metadata": {},
   "source": [
    "Наравно, један стринг у другом може да се појави више пута. Немамо функцију која аутоматски враћа све те позиције, али бисмо могли да је напишемо помоћу петље, слајсова и функције `.index()`. "
   ]
  },
  {
   "cell_type": "markdown",
   "id": "36e7ab26-7396-4b63-b7d6-1390f81967c1",
   "metadata": {},
   "source": [
    "__Задатак 4__: Напишите функцију која приказује све индексе са којима у стрингу S=\"String je lista karaktera: slova, cifara i ostalih znakova.\" почиње произвољни стринг s."
   ]
  },
  {
   "cell_type": "markdown",
   "id": "34b25d52-1ae9-4072-98be-aaead6b09a7b",
   "metadata": {},
   "source": [
    "## Токенизација"
   ]
  },
  {
   "cell_type": "markdown",
   "id": "8b19fded-e629-4811-844a-02e40b6e2662",
   "metadata": {},
   "source": [
    "Анализа текста заснива се на анализи токена, односно јединица текста. Токен може да буде слово, слог, реч, синтагма итд. Сваки текст у дигиталном облику можемо да поделимо на токене и да их онда статистички обрађујемо. Уколико текст није чист него има и контролне знакове, то неће бити сасвим једноставно."
   ]
  },
  {
   "cell_type": "markdown",
   "id": "7baa678c-30ed-4ea3-a3ea-1a4857309392",
   "metadata": {},
   "source": [
    "Једна од најважнијих функција за рад са стринговима је она која стринг дели на делове и појединачне делове ставља у листу. У примеру где је цела реченица један стринг, тај стринг можемо да поделимо на низ мањих у којима су речи. Најједноставнији начин да то урадимо јесте да одвојимо делове стринга између којих је размак, тј. знак \" \". Функција коју за то користимо је `.split()`. Аргумент ове функције може да буде било који карактер. Уколико не наведемо који је, Пајтон ће подразумевати да је то размак. "
   ]
  },
  {
   "cell_type": "code",
   "execution_count": 8,
   "id": "bde582f6-0303-4dd1-9f3a-f0a64a4b0b8a",
   "metadata": {},
   "outputs": [
    {
     "data": {
      "text/plain": [
       "['String',\n",
       " 'je',\n",
       " 'lista',\n",
       " 'karaktera:',\n",
       " 'slova,',\n",
       " 'cifara',\n",
       " 'i',\n",
       " 'ostalih',\n",
       " 'znakova.']"
      ]
     },
     "execution_count": 8,
     "metadata": {},
     "output_type": "execute_result"
    }
   ],
   "source": [
    "S.split()"
   ]
  },
  {
   "cell_type": "markdown",
   "id": "b75e9252-d1ab-476e-8c69-b3e6cb47ebaa",
   "metadata": {},
   "source": [
    "Наравно, постоје детаљи, као што су знаци интерпункције, који нам не дозвољавају да речи једноставно издвојимо као део стринга између два размака. Згодно решење, мада ни оно није свеобухватно, јесте да прво уклонимо све \"проблематичне\" знаке помоћу функције `.replace()`. Ова функција има два аргумента којима означавамо који карактер у стрингу желимо да заменимо којим другим. На пример, ако хоћемо да избришемо тачку из стринга `S` онда карактер \".\" мењамо са празним стрингом , тј. са \"\"."
   ]
  },
  {
   "cell_type": "code",
   "execution_count": 9,
   "id": "ea1e3474-6141-4e40-ac2d-33fda2aeaa07",
   "metadata": {},
   "outputs": [
    {
     "name": "stdout",
     "output_type": "stream",
     "text": [
      "String je lista karaktera slova cifara i ostalih znakova\n"
     ]
    }
   ],
   "source": [
    "S2=S.replace(\".\",\"\")\n",
    "S2=S2.replace(\",\",\"\")\n",
    "S2=S2.replace(\":\",\"\")\n",
    "print(S2)"
   ]
  },
  {
   "cell_type": "markdown",
   "id": "58d27c64-d638-44d9-aae6-759c219ad9c2",
   "metadata": {},
   "source": [
    "Функција која извршава супротну радњу од `.split()` je `.join()`. Она спаја елементе листе у један стринг раздвајајући их одређеним карактером. Синтакса је мало необична јер се функција примењује на сепратор, а листа се наводи као аргумент. Свеједно, једноставна је за употребу."
   ]
  },
  {
   "cell_type": "code",
   "execution_count": 10,
   "id": "d6fb4dd4-4870-4c3d-a587-902ce1f3ab45",
   "metadata": {},
   "outputs": [
    {
     "data": {
      "text/plain": [
       "'Ovo_treba_spojiti_donjom_crtom'"
      ]
     },
     "execution_count": 10,
     "metadata": {},
     "output_type": "execute_result"
    }
   ],
   "source": [
    "\"_\".join([\"Ovo\",\"treba\",\"spojiti\",\"donjom\",\"crtom\"])"
   ]
  },
  {
   "cell_type": "markdown",
   "id": "7930deb9-9caf-4475-a33a-8eced6489900",
   "metadata": {},
   "source": [
    "## Спајање стрингова "
   ]
  },
  {
   "cell_type": "markdown",
   "id": "ecad9f44-0338-43e8-92d0-deb2c4ff6159",
   "metadata": {},
   "source": [
    "Слично као и са листама, оператори `+` и `*` раде и са стринговима. \"Сабирање\" стрингова је заправо спајање два стринга у један, док је \"множење\" стринга неким природним бројем понављање истог стринга толико пута. "
   ]
  },
  {
   "cell_type": "code",
   "execution_count": 11,
   "id": "c86a589b-dd20-43cf-b923-81730ab97262",
   "metadata": {},
   "outputs": [
    {
     "name": "stdout",
     "output_type": "stream",
     "text": [
      "PrviDrugi\n",
      "PrviPrviPrvi\n"
     ]
    }
   ],
   "source": [
    "s1=\"Prvi\"\n",
    "s2=\"Drugi\"\n",
    "print(s1+s2)\n",
    "print(s1*3)"
   ]
  },
  {
   "cell_type": "markdown",
   "id": "d2807f68-caf5-4906-a0a6-a8b3c4ba57f0",
   "metadata": {},
   "source": [
    "## Контролни карактери"
   ]
  },
  {
   "cell_type": "markdown",
   "id": "0c14378d-4326-4ffe-bfcd-2068f7ef0c9f",
   "metadata": {},
   "source": [
    "Како бисте у стринг ставили текст који у себи има део под наводницима, нпр. `OŠ \"Vuk Karadžić\"`? Ово не можемо да изведемо тако што просто у стринг (који иначе стављамо под наводнике) убацимо још пар истих наводника. То би само разбило стринг на два и добили бисмо информацију да унети кôд има синтаксну грешку. Пробајте."
   ]
  },
  {
   "cell_type": "markdown",
   "id": "2efb28e6-2e8f-40e7-be59-5fbd20529546",
   "metadata": {},
   "source": [
    "Једно могуће решење је да унутар стринга који смо ставили између двоструких наводника ставимо део текста под једноструким наводницима, или обрнуто. То ће Пајтон разумети и прихватити."
   ]
  },
  {
   "cell_type": "code",
   "execution_count": 12,
   "id": "20191be5-c1e2-43b5-901b-57e1718a9d10",
   "metadata": {},
   "outputs": [
    {
     "name": "stdout",
     "output_type": "stream",
     "text": [
      "OŠ 'Vuk Karadžić', Loznica\n",
      "OŠ \"Vuk Karadžić\", Loznica\n"
     ]
    }
   ],
   "source": [
    "s1=\"OŠ 'Vuk Karadžić', Loznica\"  # prva mogućnost\n",
    "print(s1)\n",
    "s2='OŠ \"Vuk Karadžić\", Loznica'  # druga mogućnost\n",
    "print(s2)"
   ]
  },
  {
   "cell_type": "markdown",
   "id": "c9243fe9-1afc-4602-907b-3819a8392d31",
   "metadata": {},
   "source": [
    "Друго решење је да користимо контролне карактере. Има карактера који се не исписују као \"нормални\" знаци већ пребацују испис текста у нови ред, враћају курзор за једно место уназад или додају већи размак (таб). За њих постоје контролни кодови. Тај код је за нови ред `\\n`. Погледајте како изгледа испис стринга у ком је садржан овај карактер."
   ]
  },
  {
   "cell_type": "code",
   "execution_count": 13,
   "id": "b57a322f-554f-49d1-8ac0-81ca5afe28cd",
   "metadata": {},
   "outputs": [
    {
     "name": "stdout",
     "output_type": "stream",
     "text": [
      "Prvi red\n",
      "drugi red\n"
     ]
    }
   ],
   "source": [
    "print(\"Prvi red\\ndrugi red\")"
   ]
  },
  {
   "cell_type": "markdown",
   "id": "27b2c0d3-a3d0-4af4-a99f-ed1edd64cecc",
   "metadata": {},
   "source": [
    "За наводнике такође постоје контролни кодови. Потребно је само да испред наводника ставимо обрнуту косу црту (_backslash_). Проблем од малопре са наводницима у стрингу могли смо да решимо и овако."
   ]
  },
  {
   "cell_type": "code",
   "execution_count": 14,
   "id": "31b455dd-f387-4731-afc2-98aa8846130f",
   "metadata": {},
   "outputs": [
    {
     "name": "stdout",
     "output_type": "stream",
     "text": [
      "OŠ \"Vuk Karadžić\", Loznica\n"
     ]
    }
   ],
   "source": [
    "s1=\"OŠ \\\"Vuk Karadžić\\\", Loznica\"\n",
    "print(s1)"
   ]
  },
  {
   "cell_type": "markdown",
   "id": "766e4a39-09ba-45cc-b88c-468d1730b569",
   "metadata": {},
   "source": [
    "Сви контролни кодови почињу обрутом косом цртом. Ево неких од њих. Пробајте да их ставите у неки стринг који исписујете."
   ]
  },
  {
   "cell_type": "markdown",
   "id": "f28fc324-6e91-4d46-8a31-cf1068ad937a",
   "metadata": {},
   "source": [
    "`\\'`  једноструки наводници\n",
    "\n",
    "`\\\"`  двоструки наводници\n",
    "\n",
    "`\\n`  крај реда\n",
    "\n",
    "`\\t`  таб\n",
    "\n",
    "`\\\\`  обрнута коса црта"
   ]
  },
  {
   "cell_type": "markdown",
   "id": "397bfcae-f144-48ac-8c24-c04c62648714",
   "metadata": {},
   "source": [
    "__Задатак 5__: Напишите Пајтон функцију која за два стринга утврђује да ли је први анаграм оног другог. На пример, стринг „I am Lord Voldemort” је анаграм стринга „Tom Marvolo Riddle”. Обратити пажњу на то да приликом провере да ли је један стринг анаграм оног другог празнине и величина слова не играју никакву улогу."
   ]
  },
  {
   "cell_type": "markdown",
   "id": "37b5e2ef-c2e8-45e1-8097-694281b89c01",
   "metadata": {},
   "source": [
    "## Коришћење текстуалних датотека"
   ]
  },
  {
   "cell_type": "markdown",
   "id": "efbcc17b-9288-4a0a-8b4c-42dd01cae1c8",
   "metadata": {},
   "source": [
    "Текст можемо да чувамо у текстуалној датотеци у спољашњој меморији и да га одатле по потреби учитавамо. У општем случају, текст у датотеци може да буде низ симбола непознате дужине који нема никакву посебну структуру. Овде нема индекса и датотеке се увек читају од почетка до краја. На крају фајла се налази контролни кôд за крај фајла (EOF, од енгл. _end of file_). Када Пајтон прочита овај кôд, прекида са читањем. Садржај датотеке можемо да читамо знак по знак, линију по линију или да цео текст прочитамо одједном."
   ]
  },
  {
   "cell_type": "markdown",
   "id": "298336ef-fd18-4e3a-a4ab-305af92195f8",
   "metadata": {},
   "source": [
    "Свака датотека мора да има име, а обично последњих неколико симбола у имену означава тип података који је у датотеку смештен. Тај део имена се обично одвоји тачком од остатка имена и зове се __екстензија__. Текстуалне датотеке обично имају екстензију .txt."
   ]
  },
  {
   "cell_type": "markdown",
   "id": "995032a6-1c6f-4077-af12-3e2088642563",
   "metadata": {},
   "source": [
    "Податке из неке датотеке можемо или само да читамо, или је могућ само упис у датотеку. Није могуће истовремено и писати у неку датотеку и читати из ње. Због тога при отварању датотеке морамо да нагласимо да ли отварамо због читања или због писања. Свакој отвореној датотеци придружујемо променљиву. За даљу комуникацију са датотеком на диску користимо назив ове променљиве."
   ]
  },
  {
   "cell_type": "markdown",
   "id": "724671c8-e20b-487f-a3c8-96166c38b646",
   "metadata": {},
   "source": [
    "Пре било какве акције са текстуалном датотеком (писање у датотеку или читање из датотеке) она мора да се „отвори”, а након акције мора да се „затвори”. Свако ново позивање функције за читање из датотеке враћа нас на место где смо прошли пут стали са читањем. Датотеке се увек читају секвенцијално и немамо начина да прочитамо нпр. 1000. ред у тексту, а да претходно не причитамо претходних 999. Показивач који говори Пајтону који ред следећи треба да прочита ресетује се када датотеку затворимо. Када пишемо у датотеку која већ има неки садржај, ми нови садржај додајемо на крај."
   ]
  },
  {
   "cell_type": "markdown",
   "id": "748332c8-ea91-489b-acd2-f1b8d7882e9d",
   "metadata": {},
   "source": [
    "### Читање из датотеке"
   ]
  },
  {
   "cell_type": "markdown",
   "id": "58f6935f-f249-421a-bd8e-2fd23e937f5b",
   "metadata": {},
   "source": [
    "У директоријуму `/podaci` имамо датотеку `Iliad.txt` у којој се налази текст целе Хомерове Илијаде на енглеском језику. Ову датотеку можете да отворите помоћу било ког едитора, као што је нпр. Notepad, али нам је овде важније да текст отворимо у Пајтону. За то користимо функцију `open()`. Аргументи ове функције су стринг са локацијом и називом фајла и мод (стринг у ком пише са којом наменом отварамо фајл). Мод може имати више вредности. Нама су најважније ове три: `\"r\"` отвара датотеку за читање, `\"a\"` отвара датотеку за повремено додавање текста и `\"w\"` за отварање нове датотеке у коју уписујемо текст."
   ]
  },
  {
   "cell_type": "code",
   "execution_count": 15,
   "id": "b0ae08f8-6e36-4d2b-b4af-9a4962dfa149",
   "metadata": {},
   "outputs": [],
   "source": [
    "f = open(\"podaci/Iliad.txt\", \"r\")"
   ]
  },
  {
   "cell_type": "markdown",
   "id": "b00f79b2-3546-4571-b941-1a46d3155697",
   "metadata": {},
   "source": [
    "Променљива `f` није стринг већ отворена конекција према датотеци на диску. Да бисмо прочитали текст коришћењем отворене конекције, користићемо функцију `.readline()` која чита један цео ред текста и враћа га као стринг. На крају сваког реда се налази контролни кôд за крај реда (EOL, од енгл. _end of line_ који сеу текстуалној датотеци означава са `\\n`). Функција `.readln()` чита од почетка до знака за крај реда. Пошто не знамо колико редова има текст у датотеци, овде ћемо прочитати и исписати само првих осам редова.  "
   ]
  },
  {
   "cell_type": "code",
   "execution_count": 16,
   "id": "99846a96-3782-4c30-95d3-596868fbe2ae",
   "metadata": {},
   "outputs": [
    {
     "name": "stdout",
     "output_type": "stream",
     "text": [
      "0 The Project Gutenberg eBook of The Iliad, by Homer\n",
      "\n",
      "1 Translated by Edward, Earl of Derby\n",
      "\n",
      "2 \n",
      "\n",
      "3 BOOK I.\n",
      "\n",
      "4 \n",
      "\n",
      "5 \n",
      "\n",
      "6 Of Peleus' son, Achilles, sing, O Muse,\n",
      "\n",
      "7 The vengeance, deep and deadly; whence to Greece\n",
      "\n"
     ]
    }
   ],
   "source": [
    "for i in range(8):\n",
    "    r=f.readline()\n",
    "    print(i, r)"
   ]
  },
  {
   "cell_type": "markdown",
   "id": "ca673dfc-1846-40a8-830e-ea823b49fd68",
   "metadata": {},
   "source": [
    "Уколико немамо намеру даље да читамо текст из датотеке, пожељно је да фајл затворимо помоћу функције `.close()`."
   ]
  },
  {
   "cell_type": "code",
   "execution_count": 17,
   "id": "a22fbc8f-1273-48c5-9673-31ed79cbcf13",
   "metadata": {},
   "outputs": [],
   "source": [
    "f.close()"
   ]
  },
  {
   "cell_type": "markdown",
   "id": "f1c753b6-6343-4308-b43e-3f405ce5636f",
   "metadata": {},
   "source": [
    "Да бисмо сазнали колико редова има текст у датотеци, потребно је да прочитамо и пребројимо све редове. Следећи програм управо то ради."
   ]
  },
  {
   "cell_type": "code",
   "execution_count": 18,
   "id": "4b5239b6-47ed-42bb-8299-be0ffc362b01",
   "metadata": {},
   "outputs": [
    {
     "name": "stdout",
     "output_type": "stream",
     "text": [
      "Datoteka 'Iliad.txt' ima 19200 redova.\n"
     ]
    }
   ],
   "source": [
    "f = open(\"podaci/Iliad.txt\", \"r\")\n",
    "br_redova = 0\n",
    "for red in f:\n",
    "    br_redova += 1\n",
    "f.close()\n",
    "print(\"Datoteka 'Iliad.txt' ima\", br_redova, \"redova.\")"
   ]
  },
  {
   "cell_type": "markdown",
   "id": "782c6549-f2e7-4e7b-9ab0-ef13a7b4df35",
   "metadata": {},
   "source": [
    "Функција `.read()` чита онолико карактера из датотеке колико наведемо у аргументу. Међу њима може да буде и контролних. Зависно од типа обраде текста који планирамо, бирамо начин читања из датотеке. Овде ћемо само дати пример читања првих 100 карактера из текста Илијаде. Да бисмо приказали кодове уместо преломљеног текста користимо функцију `repr()` која враћа \"сирови\" стринг. Тако ћемо јасно видети где су који контролни карактери, нпр. крај реда `\\n`. Уколико не наведемо колико карактера хоћемо да учитамо, функција `.read()` ће прочитати цео текст."
   ]
  },
  {
   "cell_type": "code",
   "execution_count": 19,
   "id": "b114597c-4ff0-492d-aaab-166785747976",
   "metadata": {},
   "outputs": [
    {
     "name": "stdout",
     "output_type": "stream",
     "text": [
      "'The Project Gutenberg eBook of The Iliad, by Homer\\nTranslated by Edward, Earl of Derby\\n\\nBOOK I.\\n\\n\\nOf'\n"
     ]
    }
   ],
   "source": [
    "f = open(\"podaci/Iliad.txt\", \"r\")\n",
    "s=f.read(100)\n",
    "f.close()\n",
    "print(repr(s))"
   ]
  },
  {
   "cell_type": "markdown",
   "id": "a703495b-ab18-4779-b051-8e89e2b7d4ba",
   "metadata": {},
   "source": [
    "Коначно, функција `.readlines()` чита све редове текста и памти их као елементе листе."
   ]
  },
  {
   "cell_type": "code",
   "execution_count": 20,
   "id": "9843d52e-6f4e-444d-9d80-70391a43eeb8",
   "metadata": {},
   "outputs": [
    {
     "name": "stdout",
     "output_type": "stream",
     "text": [
      "['The Project Gutenberg eBook of The Iliad, by Homer\\n', 'Translated by Edward, Earl of Derby\\n', '\\n', 'BOOK I.\\n', '\\n', '\\n', \"Of Peleus' son, Achilles, sing, O Muse,\\n\", 'The vengeance, deep and deadly; whence to Greece\\n', 'Unnumbered ills arose; which many a soul\\n', 'Of mighty warriors to the viewless shades\\n']\n"
     ]
    }
   ],
   "source": [
    "f = open(\"podaci/Iliad.txt\", \"r\")\n",
    "lista=f.readlines()\n",
    "f.close()\n",
    "print(lista[:10])"
   ]
  },
  {
   "cell_type": "markdown",
   "id": "cdbb23bd-9f38-49fb-80a3-f57d73854c26",
   "metadata": {},
   "source": [
    "## Обрада текста"
   ]
  },
  {
   "cell_type": "markdown",
   "id": "c4d3007e-7631-4f8b-abfa-74831bb37ec4",
   "metadata": {},
   "source": [
    "Обрада текста учитаног из датотеке само се по обиму разликује од обраде текста у једном стрингу. Све што можемо са стрингом од неколико карактера, можемо и са стрингом у који стаје цела књига. Овде ћемо на примеру Илијаде приказати неке могућности за обраду текста коришћењем стандардне библиотеке. Када бисмо увезли библиотеку _pandas_ или неку библиотеку специјализовану за рад са текстом, број опција за обраду које би нам биле на располагању био би много већи. Ми се у овој свесци тиме нећемо бавити. Држаћемо се само структура и функција које можемо да користимо без увожења додатних библиотека. "
   ]
  },
  {
   "cell_type": "code",
   "execution_count": 21,
   "id": "9fd77df3-ea98-4d81-bb80-7d65d7e0c65b",
   "metadata": {},
   "outputs": [],
   "source": [
    "f=open(\"podaci/Iliad.txt\", \"r\")  # otvaramo fajl za čitanje\n",
    "s=f.read()                     # čitamo ceo tekst i smeštamo ga u string s\n",
    "f.close()                      # zatvaramo fajl"
   ]
  },
  {
   "cell_type": "markdown",
   "id": "9850ebbf-5ee7-450b-8258-51b402d9a284",
   "metadata": {},
   "source": [
    "Прво, можемо да погледамо којих све карактера има у овом фајлу. Приказивање целог текста не би било баш практично, зато ћемо прибегнемо статистици. У листу `l` стављамо све карактере из стринга `s`."
   ]
  },
  {
   "cell_type": "code",
   "execution_count": 22,
   "id": "c741994f-8be4-4142-ad2c-4c2e74c3bff7",
   "metadata": {},
   "outputs": [
    {
     "data": {
      "text/plain": [
       "787081"
      ]
     },
     "execution_count": 22,
     "metadata": {},
     "output_type": "execute_result"
    }
   ],
   "source": [
    "len(s)    # ukupan broj karaktera u tekstu"
   ]
  },
  {
   "cell_type": "code",
   "execution_count": 23,
   "id": "0af49197-aaa2-48e7-a77f-6ac1daf86716",
   "metadata": {},
   "outputs": [
    {
     "data": {
      "text/plain": [
       "\"The Project Gutenberg eBook of The Iliad, by Homer\\nTranslated by Edward, Earl of Derby\\n\\nBOOK I.\\n\\n\\nOf Peleus' son, Achilles, sing, O Muse,\\nThe vengeance, deep and deadly; whence to Greece\\nUnnumbered ills arose; which many a soul\\nOf mighty warriors to the viewless shades\\nUntimely sent; they on the battle plain\\nUnburied lay, a prey to rav'ning dogs,\\nAnd carrion birds; but so had Jove decreed,\\nFrom that sad day when first in wordy war,\\nThe mighty Agamemnon, King of men,\\nConfronted stood by Peleus' g\""
      ]
     },
     "execution_count": 23,
     "metadata": {},
     "output_type": "execute_result"
    }
   ],
   "source": [
    "s[:500]   # prikazujemo prvih 500 karaktera stringa s"
   ]
  },
  {
   "cell_type": "code",
   "execution_count": 24,
   "id": "c5ba346d-e833-40c0-975a-6e15a81d5f07",
   "metadata": {},
   "outputs": [],
   "source": [
    "l=[x for x in s]"
   ]
  },
  {
   "cell_type": "code",
   "execution_count": 25,
   "id": "0d826199-cc38-488d-988d-7209576faa79",
   "metadata": {},
   "outputs": [
    {
     "name": "stdout",
     "output_type": "stream",
     "text": [
      "['T', 'h', 'e', ' ', 'P', 'r', 'o', 'j', 'e', 'c', 't', ' ', 'G', 'u', 't', 'e', 'n', 'b', 'e', 'r']\n"
     ]
    }
   ],
   "source": [
    "print(l[:20])"
   ]
  },
  {
   "cell_type": "markdown",
   "id": "faaf3481-3c12-464c-97d6-9d0249317ab3",
   "metadata": {},
   "source": [
    "У 787 хиљада карактера сигурно има много оних који се често понављају. Да ли знате како бисте издвојили јединствене карактере и утврдили колико се пута понављају? Потребне су нам две листе: једна у коју слажемо јединствене вредности карактера и друга у коју записујемо колико пута се поновио одговарајући карактер."
   ]
  },
  {
   "cell_type": "code",
   "execution_count": 26,
   "id": "0df5e3fb-beb1-40ce-8b98-4f8717535174",
   "metadata": {},
   "outputs": [],
   "source": [
    "jk=[]                            # lista jedinstvenih karaktera\n",
    "bp=[]                            # lista broja ponavljanja svakog jedinstvenog karaktera\n",
    "for x in l:                      # za svaki karakter iz liste\n",
    "    if x not in jk:              # proveravamo da li je već u listi jedistvenih\n",
    "        jk.append(x)             # ako nije, dodajemo taj karakter u listu jk\n",
    "        bp.append(l.count(x))    # i dodajemo broj ponavljanja u listi bp"
   ]
  },
  {
   "cell_type": "code",
   "execution_count": 27,
   "id": "392f07d2-3845-4ea2-a0be-d68d55ee337d",
   "metadata": {},
   "outputs": [
    {
     "data": {
      "text/plain": [
       "76"
      ]
     },
     "execution_count": 27,
     "metadata": {},
     "output_type": "execute_result"
    }
   ],
   "source": [
    "len(jk)"
   ]
  },
  {
   "cell_type": "markdown",
   "id": "d3d351d5-0598-4540-b115-e89c7881ebbe",
   "metadata": {},
   "source": [
    "Број различитих карактера који се појављују у тексту је 76. Осим великих и малих слова ту су цифре, знаци интерпункције и неки контролни карактери. Ево који су то карактери и колико пута се понављају."
   ]
  },
  {
   "cell_type": "code",
   "execution_count": 28,
   "id": "8e56a640-4ab5-4a17-aba3-3090bbd2dd12",
   "metadata": {},
   "outputs": [
    {
     "name": "stdout",
     "output_type": "stream",
     "text": [
      "'T' 5246\n",
      "'h' 44123\n",
      "'e' 70502\n",
      "' ' 120392\n",
      "'P' 1284\n",
      "'r' 39299\n",
      "'o' 44663\n",
      "'j' 958\n",
      "'c' 12474\n",
      "'t' 47612\n",
      "'G' 1574\n",
      "'u' 17182\n",
      "'n' 37564\n",
      "'b' 8328\n",
      "'g' 11429\n",
      "'B' 1339\n",
      "'k' 3946\n",
      "'f' 13908\n",
      "'I' 1967\n",
      "'l' 25305\n",
      "'i' 34877\n",
      "'a' 41159\n",
      "'d' 29341\n",
      "',' 17299\n",
      "'y' 10196\n",
      "'H' 2345\n",
      "'m' 14190\n",
      "'\\n' 19200\n",
      "'s' 43396\n",
      "'E' 640\n",
      "'w' 12477\n",
      "'D' 507\n",
      "'O' 1373\n",
      "'K' 214\n",
      "'.' 3035\n",
      "\"'\" 10370\n",
      "'A' 4030\n",
      "'M' 862\n",
      "'v' 4912\n",
      "'p' 9105\n",
      "';' 4928\n",
      "'U' 304\n",
      "'J' 532\n",
      "'F' 792\n",
      "'C' 427\n",
      "'S' 1359\n",
      "'?' 310\n",
      "'L' 545\n",
      "'-' 1537\n",
      "'W' 1635\n",
      "':' 1587\n",
      "'\"' 1372\n",
      "'Y' 195\n",
      "'R' 232\n",
      "'N' 669\n",
      "'!' 350\n",
      "'x' 619\n",
      "'q' 277\n",
      "'z' 433\n",
      "'(' 46\n",
      "')' 46\n",
      "'Q' 67\n",
      "'V' 115\n",
      "'[' 8\n",
      "'1' 1\n",
      "']' 8\n",
      "'Z' 12\n",
      "'X' 43\n",
      "'2' 1\n",
      "'3' 1\n",
      "'4' 1\n",
      "'*' 2\n",
      "'5' 1\n",
      "'6' 1\n",
      "'7' 1\n",
      "'8' 1\n"
     ]
    }
   ],
   "source": [
    "for i in range(len(jk)):\n",
    "    print(repr(jk[i]),bp[i])   # koristimo repr() da bismo prikazali \"sirovi\" karakter"
   ]
  },
  {
   "cell_type": "markdown",
   "id": "ef33e0b4-4807-4424-808c-b120923e7cc7",
   "metadata": {},
   "source": [
    "Није тешко установити који се карактер понавља највише пута: размак, тј. ' ', чак 120392 пута."
   ]
  },
  {
   "cell_type": "markdown",
   "id": "a779209f-2f3f-42fd-89c8-270fd0507105",
   "metadata": {},
   "source": [
    "Сличну анализу коју смо урадили за карактере можемо да урадимо и за речи у тексту. Мали је проблем што речи не можемо тако лако да издвојимо као карактере. Обично су речи низови слова између два размака, али имамо и разне друге карактере који нам сметају. Да погледамо како изгледа првих 2000 карактера \"сировог\" текста Илијаде. "
   ]
  },
  {
   "cell_type": "code",
   "execution_count": 29,
   "id": "b73380cc-7ab3-437b-8273-a5b043534b40",
   "metadata": {},
   "outputs": [
    {
     "data": {
      "text/plain": [
       "'The Project Gutenberg eBook of The Iliad, by Homer\\nTranslated by Edward, Earl of Derby\\n\\nBOOK I.\\n\\n\\nOf Peleus\\' son, Achilles, sing, O Muse,\\nThe vengeance, deep and deadly; whence to Greece\\nUnnumbered ills arose; which many a soul\\nOf mighty warriors to the viewless shades\\nUntimely sent; they on the battle plain\\nUnburied lay, a prey to rav\\'ning dogs,\\nAnd carrion birds; but so had Jove decreed,\\nFrom that sad day when first in wordy war,\\nThe mighty Agamemnon, King of men,\\nConfronted stood by Peleus\\' godlike son.\\n\\nSay then, what God the fatal strife provok\\'d?\\nJove\\'s and Latona\\'s son; he, filled with wrath\\nAgainst the King, with deadly pestilence\\nThe camp afflicted,--and the people died,--\\nFor Chryses\\' sake, his priest, whom Atreus\\' son\\nWith scorn dismiss\\'d, when to the Grecian ships\\nHe came, his captive daughter to redeem,\\nWith costly ransom charg\\'d; and in his hand\\nThe sacred fillet of his God he bore,\\nAnd golden staff; to all he sued, but chief\\nTo Atreus\\' sons, twin captains of the host:\\n\"Ye sons of Atreus, and ye well-greav\\'d Greeks,\\nMay the great Gods, who on Olympus dwell,\\nGrant you yon hostile city to destroy,\\nAnd home return in safety; but my child\\nRestore, I pray; her proffer\\'d ransom take,\\nAnd in his priest, the Lord of Light revere.\"\\n\\nThen through the ranks assenting murmurs ran,\\nThe priest to rev\\'rence, and the ransom take:\\nNot so Atrides; he, with haughty mien,\\nAnd bitter speech, the trembling sire address\\'d:\\n\"Old man, I warn thee, that beside our ships\\nI find thee not, or ling\\'ring now, or back\\nReturning; lest thou prove of small avail\\nThy golden staff, and fillet of thy God.\\nHer I release not, till her youth be fled;\\nWithin my walls, in Argos, far from home,\\nHer lot is cast, domestic cares to ply,\\nAnd share a master\\'s bed. For thee, begone!\\nIncense me not, lest ill betide thee now.\"\\n\\nHe said: the old man trembled, and obeyed;\\nBeside the many-dashing Ocean\\'s shore\\nSilent he pass\\'d; and all apart, he pray\\'d\\nTo great Apollo, fair Latona\\'s son:\\n\\n\"Hear me, God of '"
      ]
     },
     "execution_count": 29,
     "metadata": {},
     "output_type": "execute_result"
    }
   ],
   "source": [
    "s[:2000]"
   ]
  },
  {
   "cell_type": "markdown",
   "id": "9f97e904-6f7e-4ac7-b836-370579b59315",
   "metadata": {},
   "source": [
    "Оно што можемо да видимо је да речи често одваја знак за нови ред. Било би нам лакше да је на том месту размак. Што се тиче зареза, тачака и осталих знака интерпункције, укључујући наводнике, лакше би нам било да их нема. Зато ћемо себи олакшати посао тако што ћемо знак за нови ред заменити размаком помоћу функције `.replace()`, док ћемо остале знаке заменити празним стрингом, \"\". То је исто као да смо их избрисали. Исто ћемо урадити и са стрингом \"--\" који има декоративну функцију. "
   ]
  },
  {
   "cell_type": "code",
   "execution_count": 30,
   "id": "669686cb-1082-48f1-87f4-9f20eb3bc3a9",
   "metadata": {},
   "outputs": [
    {
     "name": "stdout",
     "output_type": "stream",
     "text": [
      "The Project Gutenberg eBook of The Iliad by Homer Translated by Edward Earl of Derby  BOOK I   Of Peleus son Achilles sing O Muse The vengeance deep and deadly whence to Greece Unnumbered ills arose which many a soul Of mighty warriors to the viewless shades Untimely sent they on the battle plain Unburied lay a prey to ravning dogs And carrion birds but so had Jove decreed From that sad day when first in wordy war The mighty Agamemnon King of men Confronted stood by Peleus godlike son  Say then what God the fatal strife provokd Joves and Latonas son he filled with wrath Against the King with deadly pestilence The camp afflictedand the people died For Chryses sake his priest whom Atreus son With scorn dismissd when to the Grecian ships He came his captive daughter to redeem With costly ransom chargd and in his hand The sacred fillet of his God he bore And golden staff to all he sued but chief To Atreus sons twin captains of the host Ye sons of Atreus and ye well-greavd Greeks May the great Gods who on Olympus dwell Grant you yon hostile city to destroy And home return in safety but my child Restore I pray her profferd ransom take And in his priest the Lord of Light revere  Then through the ranks assenting murmurs ran The priest to revrence and the ransom take Not so Atrides he with haughty mien And bitter speech the trembling sire addressd Old man I warn thee that beside our ships I find thee not or lingring now or back Returning lest thou prove of small avail Thy golden staff and fillet of thy God Her I release not till her youth be fled Within my walls in Argos far from home Her lot is cast domestic cares to ply And share a masters bed For thee begone Incense me not lest ill betide thee now  He said the old man trembled and obeyed Beside the many-dashing Oceans shore Silent he passd and all apart he prayd To great Apollo fair Latonas son  Hear me God of the silver bow whose care Chrysa surrounds and Cilias lovely vale Whose sovreign sway oer Tenedos extends O Smint\n"
     ]
    }
   ],
   "source": [
    "s=s.replace(\"\\n\", \" \")\n",
    "for x in \"!?.,:;()[]*0123456789\":\n",
    "    s=s.replace(x, \"\")\n",
    "for x in \"\\\"\\'\":\n",
    "    s=s.replace(x, \"\")\n",
    "s=s.replace(\"--\",\"\")\n",
    "print(s[:2000])"
   ]
  },
  {
   "cell_type": "markdown",
   "id": "8c0dbdd7-59ba-4ef6-b2f6-85337c36320c",
   "metadata": {},
   "source": [
    "Ово сада изгледа много чистије и можемо да испитамо која се реч колико пута појављује у тексту. Мали проблем нам представља што иста реч може имати различит облик ако је на почетку реда. Због тога \"The\" и \"the\" не би биле препознате као исте речи. Уколико сва слова сведемо на мала помоћу функције `.lower()`, биће лакше да их пребројимо."
   ]
  },
  {
   "cell_type": "code",
   "execution_count": 31,
   "id": "cce48bdf-7265-4c8e-a58c-00e3fb36b3da",
   "metadata": {},
   "outputs": [],
   "source": [
    "s=s.lower()"
   ]
  },
  {
   "cell_type": "code",
   "execution_count": 32,
   "id": "c55db0d3-779e-4de6-b76b-d72d05a131f1",
   "metadata": {},
   "outputs": [
    {
     "data": {
      "text/plain": [
       "'the project gutenberg ebook of the iliad by homer translated by edward earl of derby  book i   of peleus son achilles sing o muse the vengeance deep and deadly whence to greece unnumbered ills arose which many a soul of mighty warriors to the viewless shades untimely sent they on the battle plain unburied lay a prey to ravning dogs and carrion birds but so had jove decreed from that sad day when f'"
      ]
     },
     "execution_count": 32,
     "metadata": {},
     "output_type": "execute_result"
    }
   ],
   "source": [
    "s[:400]"
   ]
  },
  {
   "cell_type": "markdown",
   "id": "195c6584-7ecb-46d7-95a7-f08ecab4cecb",
   "metadata": {},
   "source": [
    "Сада је лако да препознамо појединачне речи. Довољно је да узмемо низове карактера који су раздвојени размацима и да их сачувамо у листи."
   ]
  },
  {
   "cell_type": "code",
   "execution_count": 33,
   "id": "0f700e2e-a259-45fe-8306-9fd982b60014",
   "metadata": {},
   "outputs": [],
   "source": [
    "ssp=s.split()"
   ]
  },
  {
   "cell_type": "code",
   "execution_count": 34,
   "id": "6fe99833-9a8c-4434-8304-f432d719f2a2",
   "metadata": {},
   "outputs": [
    {
     "data": {
      "text/plain": [
       "['the',\n",
       " 'project',\n",
       " 'gutenberg',\n",
       " 'ebook',\n",
       " 'of',\n",
       " 'the',\n",
       " 'iliad',\n",
       " 'by',\n",
       " 'homer',\n",
       " 'translated']"
      ]
     },
     "execution_count": 34,
     "metadata": {},
     "output_type": "execute_result"
    }
   ],
   "source": [
    "ssp[:10]"
   ]
  },
  {
   "cell_type": "markdown",
   "id": "6f66b245-d942-4cf9-8145-5f9b60fc072b",
   "metadata": {},
   "source": [
    "Истина, могли смо да избришемо прва два реда у којима се помиње пројекат Гутенберг јер то није део Илијаде. Свеједно, статистици неће много сметати што у 19200 редова имамо два непотребна. Уосталом, то можете сами да урадите за вежбу. "
   ]
  },
  {
   "cell_type": "markdown",
   "id": "985fa9b6-17ea-4da7-bb48-92a8a9ef7fda",
   "metadata": {},
   "source": [
    "Сада да видимо можемо ли да поновимо оно тражење јединствених елемената листе и њихово пребројавање које смо урадили са карактерима. Имајте у виду да је ово заметан посао за који ће рачунару бити потребно 20-30 секунди. Велики је посао пронаћи хиљаде различитих речи и за сваку проћи кроз цео текст како бисмо их пребројали."
   ]
  },
  {
   "cell_type": "code",
   "execution_count": 35,
   "id": "e7348ee2-7652-406a-9d4e-d86b3c6e439d",
   "metadata": {},
   "outputs": [],
   "source": [
    "jr=[]                            # lista jedinstvenih reči\n",
    "bpr=[]                           # lista broja ponavljanja svake jedinstvene reči\n",
    "for x in ssp:                    # za svaku reč iz liste\n",
    "    if x not in jr:              # proveravamo da li je već u listi jedistvenih\n",
    "        jr.append(x)             # ako nije, dodajemo taj karakter u listu jr\n",
    "        bpr.append(ssp.count(x)) # i dodajemo broj ponavljanja u listu bpr"
   ]
  },
  {
   "cell_type": "code",
   "execution_count": 36,
   "id": "ea18141d-1b5b-451d-bef3-e7477469d245",
   "metadata": {},
   "outputs": [
    {
     "data": {
      "text/plain": [
       "9019"
      ]
     },
     "execution_count": 36,
     "metadata": {},
     "output_type": "execute_result"
    }
   ],
   "source": [
    "len(jr)   # broj jedinstvenih reči"
   ]
  },
  {
   "cell_type": "code",
   "execution_count": 37,
   "id": "13bc13ef-d7fa-47a7-a1d1-e6c731165d63",
   "metadata": {},
   "outputs": [
    {
     "name": "stdout",
     "output_type": "stream",
     "text": [
      "9156\n",
      "the\n"
     ]
    }
   ],
   "source": [
    "print(max(bpr))                 # najveći broj ponavljanja\n",
    "print(jr[bpr.index(max(bpr))])  # jedinstvena reč sa indkesom koji odgovara reči sa najvećim brojem ponavljanja"
   ]
  },
  {
   "cell_type": "markdown",
   "id": "50bc6bd8-473a-408d-b1ae-f59b8a1e77d5",
   "metadata": {},
   "source": [
    "Не улазећи у фреквенцијску анализу речи у тексту, само да погледамо почетак листе, односно које су то речи и колико се пута понављају.  "
   ]
  },
  {
   "cell_type": "code",
   "execution_count": 38,
   "id": "1382157d-2f01-44af-8e02-b51edab39bcc",
   "metadata": {},
   "outputs": [
    {
     "name": "stdout",
     "output_type": "stream",
     "text": [
      "the 9156\n",
      "project 1\n",
      "gutenberg 1\n",
      "ebook 1\n",
      "of 3603\n",
      "iliad 1\n",
      "by 1044\n",
      "homer 1\n",
      "translated 1\n",
      "edward 1\n",
      "earl 1\n",
      "derby 1\n",
      "book 24\n",
      "i 998\n",
      "peleus 132\n",
      "son 856\n",
      "achilles 388\n",
      "sing 1\n",
      "o 78\n",
      "muse 2\n"
     ]
    }
   ],
   "source": [
    "for i in range(20):\n",
    "    print(jr[i],bpr[i])"
   ]
  },
  {
   "cell_type": "markdown",
   "id": "a23c1ea1-df5c-4fb1-adec-174702dfd36d",
   "metadata": {},
   "source": [
    "За анализу ових података згодно је да фреквенције речи упишемо у фајл. Касније можемо да изаберемо алат којим ћемо радити анализу."
   ]
  },
  {
   "cell_type": "markdown",
   "id": "5ff13723-33d9-482a-8d99-e520b4c858a0",
   "metadata": {},
   "source": [
    "### Уписивање података у датотеку"
   ]
  },
  {
   "cell_type": "markdown",
   "id": "3609fd6e-7383-4cf3-960a-5e8a22723e2e",
   "metadata": {},
   "source": [
    "За уписивање података у фајл користим функцију `.write()` са истим функцијама за отварање и затварање датотеке као што је то било код читања. Оно што уписујемо мора да буде стринг. У следећем примеру у датотеку уписујемо по један стринг за сваку јединствену реч. Тај стринг добијамо спајањем јединствене речи, зареза, броја понављања у облику стринга и знака за крај реда."
   ]
  },
  {
   "cell_type": "code",
   "execution_count": 39,
   "id": "9008ee95-ba00-4ef4-bdb5-5b5b1a855fd2",
   "metadata": {},
   "outputs": [],
   "source": [
    "g = open(\"podaci/Iliad stat.txt\", \"w\")\n",
    "for i in range(len(jr)):\n",
    "    zapis=jr[i]+','+str(bpr[i])+'\\n'\n",
    "    g.write(zapis)\n",
    "g.close()"
   ]
  },
  {
   "cell_type": "markdown",
   "id": "4ebc91de-12b1-4e3b-92b2-729a76be035d",
   "metadata": {},
   "source": [
    "Иако у текстуални фајл можемо да упишемо податке на произвољно много начина, у овом примеру смо се трудили да направимо неку структуру. Сваки запис има две речи одвојене зарезом, а сваки запис иде у посебан ред. То је формат познат као CSV (_comma separated values_) који је стандард за табеларно приказане податке. Овакав фајл можете лако да увезете у Ексел или да га прочитате из Пајтона помоћу _pandas_ библиотеке. Пробајте то да урадите."
   ]
  }
 ],
 "metadata": {
  "kernelspec": {
   "display_name": "Python 3 (ipykernel)",
   "language": "python",
   "name": "python3"
  },
  "language_info": {
   "codemirror_mode": {
    "name": "ipython",
    "version": 3
   },
   "file_extension": ".py",
   "mimetype": "text/x-python",
   "name": "python",
   "nbconvert_exporter": "python",
   "pygments_lexer": "ipython3",
   "version": "3.10.4"
  },
  "vscode": {
   "interpreter": {
    "hash": "1e53f9a0cb753ca1ab390bc7dc4ba26e7e3a3e2e11ea0cedd936bd3da914dc0f"
   }
  }
 },
 "nbformat": 4,
 "nbformat_minor": 5
}
